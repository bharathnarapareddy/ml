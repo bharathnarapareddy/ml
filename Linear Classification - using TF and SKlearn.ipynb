{
 "cells": [
  {
   "cell_type": "markdown",
   "id": "psychological-farming",
   "metadata": {},
   "source": [
    "### Classification"
   ]
  },
  {
   "cell_type": "code",
   "execution_count": 1,
   "id": "surface-retail",
   "metadata": {},
   "outputs": [],
   "source": [
    "import tensorflow as tf"
   ]
  },
  {
   "cell_type": "code",
   "execution_count": 2,
   "id": "spectacular-restoration",
   "metadata": {},
   "outputs": [
    {
     "data": {
      "text/plain": [
       "'2.3.0'"
      ]
     },
     "execution_count": 2,
     "metadata": {},
     "output_type": "execute_result"
    }
   ],
   "source": [
    "tf.__version__"
   ]
  },
  {
   "cell_type": "code",
   "execution_count": 4,
   "id": "saving-collect",
   "metadata": {},
   "outputs": [],
   "source": [
    "from sklearn.datasets import load_breast_cancer"
   ]
  },
  {
   "cell_type": "code",
   "execution_count": 5,
   "id": "adjusted-winner",
   "metadata": {},
   "outputs": [],
   "source": [
    "data=load_breast_cancer()"
   ]
  },
  {
   "cell_type": "code",
   "execution_count": 6,
   "id": "affiliated-humidity",
   "metadata": {},
   "outputs": [
    {
     "data": {
      "text/plain": [
       "sklearn.utils.Bunch"
      ]
     },
     "execution_count": 6,
     "metadata": {},
     "output_type": "execute_result"
    }
   ],
   "source": [
    "type(data)"
   ]
  },
  {
   "cell_type": "code",
   "execution_count": 7,
   "id": "detected-income",
   "metadata": {},
   "outputs": [
    {
     "data": {
      "text/plain": [
       "{'data': array([[1.799e+01, 1.038e+01, 1.228e+02, ..., 2.654e-01, 4.601e-01,\n",
       "         1.189e-01],\n",
       "        [2.057e+01, 1.777e+01, 1.329e+02, ..., 1.860e-01, 2.750e-01,\n",
       "         8.902e-02],\n",
       "        [1.969e+01, 2.125e+01, 1.300e+02, ..., 2.430e-01, 3.613e-01,\n",
       "         8.758e-02],\n",
       "        ...,\n",
       "        [1.660e+01, 2.808e+01, 1.083e+02, ..., 1.418e-01, 2.218e-01,\n",
       "         7.820e-02],\n",
       "        [2.060e+01, 2.933e+01, 1.401e+02, ..., 2.650e-01, 4.087e-01,\n",
       "         1.240e-01],\n",
       "        [7.760e+00, 2.454e+01, 4.792e+01, ..., 0.000e+00, 2.871e-01,\n",
       "         7.039e-02]]),\n",
       " 'target': array([0, 0, 0, 0, 0, 0, 0, 0, 0, 0, 0, 0, 0, 0, 0, 0, 0, 0, 0, 1, 1, 1,\n",
       "        0, 0, 0, 0, 0, 0, 0, 0, 0, 0, 0, 0, 0, 0, 0, 1, 0, 0, 0, 0, 0, 0,\n",
       "        0, 0, 1, 0, 1, 1, 1, 1, 1, 0, 0, 1, 0, 0, 1, 1, 1, 1, 0, 1, 0, 0,\n",
       "        1, 1, 1, 1, 0, 1, 0, 0, 1, 0, 1, 0, 0, 1, 1, 1, 0, 0, 1, 0, 0, 0,\n",
       "        1, 1, 1, 0, 1, 1, 0, 0, 1, 1, 1, 0, 0, 1, 1, 1, 1, 0, 1, 1, 0, 1,\n",
       "        1, 1, 1, 1, 1, 1, 1, 0, 0, 0, 1, 0, 0, 1, 1, 1, 0, 0, 1, 0, 1, 0,\n",
       "        0, 1, 0, 0, 1, 1, 0, 1, 1, 0, 1, 1, 1, 1, 0, 1, 1, 1, 1, 1, 1, 1,\n",
       "        1, 1, 0, 1, 1, 1, 1, 0, 0, 1, 0, 1, 1, 0, 0, 1, 1, 0, 0, 1, 1, 1,\n",
       "        1, 0, 1, 1, 0, 0, 0, 1, 0, 1, 0, 1, 1, 1, 0, 1, 1, 0, 0, 1, 0, 0,\n",
       "        0, 0, 1, 0, 0, 0, 1, 0, 1, 0, 1, 1, 0, 1, 0, 0, 0, 0, 1, 1, 0, 0,\n",
       "        1, 1, 1, 0, 1, 1, 1, 1, 1, 0, 0, 1, 1, 0, 1, 1, 0, 0, 1, 0, 1, 1,\n",
       "        1, 1, 0, 1, 1, 1, 1, 1, 0, 1, 0, 0, 0, 0, 0, 0, 0, 0, 0, 0, 0, 0,\n",
       "        0, 0, 1, 1, 1, 1, 1, 1, 0, 1, 0, 1, 1, 0, 1, 1, 0, 1, 0, 0, 1, 1,\n",
       "        1, 1, 1, 1, 1, 1, 1, 1, 1, 1, 1, 0, 1, 1, 0, 1, 0, 1, 1, 1, 1, 1,\n",
       "        1, 1, 1, 1, 1, 1, 1, 1, 1, 0, 1, 1, 1, 0, 1, 0, 1, 1, 1, 1, 0, 0,\n",
       "        0, 1, 1, 1, 1, 0, 1, 0, 1, 0, 1, 1, 1, 0, 1, 1, 1, 1, 1, 1, 1, 0,\n",
       "        0, 0, 1, 1, 1, 1, 1, 1, 1, 1, 1, 1, 1, 0, 0, 1, 0, 0, 0, 1, 0, 0,\n",
       "        1, 1, 1, 1, 1, 0, 1, 1, 1, 1, 1, 0, 1, 1, 1, 0, 1, 1, 0, 0, 1, 1,\n",
       "        1, 1, 1, 1, 0, 1, 1, 1, 1, 1, 1, 1, 0, 1, 1, 1, 1, 1, 0, 1, 1, 0,\n",
       "        1, 1, 1, 1, 1, 1, 1, 1, 1, 1, 1, 1, 0, 1, 0, 0, 1, 0, 1, 1, 1, 1,\n",
       "        1, 0, 1, 1, 0, 1, 0, 1, 1, 0, 1, 0, 1, 1, 1, 1, 1, 1, 1, 1, 0, 0,\n",
       "        1, 1, 1, 1, 1, 1, 0, 1, 1, 1, 1, 1, 1, 1, 1, 1, 1, 0, 1, 1, 1, 1,\n",
       "        1, 1, 1, 0, 1, 0, 1, 1, 0, 1, 1, 1, 1, 1, 0, 0, 1, 0, 1, 0, 1, 1,\n",
       "        1, 1, 1, 0, 1, 1, 0, 1, 0, 1, 0, 0, 1, 1, 1, 0, 1, 1, 1, 1, 1, 1,\n",
       "        1, 1, 1, 1, 1, 0, 1, 0, 0, 1, 1, 1, 1, 1, 1, 1, 1, 1, 1, 1, 1, 1,\n",
       "        1, 1, 1, 1, 1, 1, 1, 1, 1, 1, 1, 1, 0, 0, 0, 0, 0, 0, 1]),\n",
       " 'frame': None,\n",
       " 'target_names': array(['malignant', 'benign'], dtype='<U9'),\n",
       " 'DESCR': '.. _breast_cancer_dataset:\\n\\nBreast cancer wisconsin (diagnostic) dataset\\n--------------------------------------------\\n\\n**Data Set Characteristics:**\\n\\n    :Number of Instances: 569\\n\\n    :Number of Attributes: 30 numeric, predictive attributes and the class\\n\\n    :Attribute Information:\\n        - radius (mean of distances from center to points on the perimeter)\\n        - texture (standard deviation of gray-scale values)\\n        - perimeter\\n        - area\\n        - smoothness (local variation in radius lengths)\\n        - compactness (perimeter^2 / area - 1.0)\\n        - concavity (severity of concave portions of the contour)\\n        - concave points (number of concave portions of the contour)\\n        - symmetry\\n        - fractal dimension (\"coastline approximation\" - 1)\\n\\n        The mean, standard error, and \"worst\" or largest (mean of the three\\n        worst/largest values) of these features were computed for each image,\\n        resulting in 30 features.  For instance, field 0 is Mean Radius, field\\n        10 is Radius SE, field 20 is Worst Radius.\\n\\n        - class:\\n                - WDBC-Malignant\\n                - WDBC-Benign\\n\\n    :Summary Statistics:\\n\\n    ===================================== ====== ======\\n                                           Min    Max\\n    ===================================== ====== ======\\n    radius (mean):                        6.981  28.11\\n    texture (mean):                       9.71   39.28\\n    perimeter (mean):                     43.79  188.5\\n    area (mean):                          143.5  2501.0\\n    smoothness (mean):                    0.053  0.163\\n    compactness (mean):                   0.019  0.345\\n    concavity (mean):                     0.0    0.427\\n    concave points (mean):                0.0    0.201\\n    symmetry (mean):                      0.106  0.304\\n    fractal dimension (mean):             0.05   0.097\\n    radius (standard error):              0.112  2.873\\n    texture (standard error):             0.36   4.885\\n    perimeter (standard error):           0.757  21.98\\n    area (standard error):                6.802  542.2\\n    smoothness (standard error):          0.002  0.031\\n    compactness (standard error):         0.002  0.135\\n    concavity (standard error):           0.0    0.396\\n    concave points (standard error):      0.0    0.053\\n    symmetry (standard error):            0.008  0.079\\n    fractal dimension (standard error):   0.001  0.03\\n    radius (worst):                       7.93   36.04\\n    texture (worst):                      12.02  49.54\\n    perimeter (worst):                    50.41  251.2\\n    area (worst):                         185.2  4254.0\\n    smoothness (worst):                   0.071  0.223\\n    compactness (worst):                  0.027  1.058\\n    concavity (worst):                    0.0    1.252\\n    concave points (worst):               0.0    0.291\\n    symmetry (worst):                     0.156  0.664\\n    fractal dimension (worst):            0.055  0.208\\n    ===================================== ====== ======\\n\\n    :Missing Attribute Values: None\\n\\n    :Class Distribution: 212 - Malignant, 357 - Benign\\n\\n    :Creator:  Dr. William H. Wolberg, W. Nick Street, Olvi L. Mangasarian\\n\\n    :Donor: Nick Street\\n\\n    :Date: November, 1995\\n\\nThis is a copy of UCI ML Breast Cancer Wisconsin (Diagnostic) datasets.\\nhttps://goo.gl/U2Uwz2\\n\\nFeatures are computed from a digitized image of a fine needle\\naspirate (FNA) of a breast mass.  They describe\\ncharacteristics of the cell nuclei present in the image.\\n\\nSeparating plane described above was obtained using\\nMultisurface Method-Tree (MSM-T) [K. P. Bennett, \"Decision Tree\\nConstruction Via Linear Programming.\" Proceedings of the 4th\\nMidwest Artificial Intelligence and Cognitive Science Society,\\npp. 97-101, 1992], a classification method which uses linear\\nprogramming to construct a decision tree.  Relevant features\\nwere selected using an exhaustive search in the space of 1-4\\nfeatures and 1-3 separating planes.\\n\\nThe actual linear program used to obtain the separating plane\\nin the 3-dimensional space is that described in:\\n[K. P. Bennett and O. L. Mangasarian: \"Robust Linear\\nProgramming Discrimination of Two Linearly Inseparable Sets\",\\nOptimization Methods and Software 1, 1992, 23-34].\\n\\nThis database is also available through the UW CS ftp server:\\n\\nftp ftp.cs.wisc.edu\\ncd math-prog/cpo-dataset/machine-learn/WDBC/\\n\\n.. topic:: References\\n\\n   - W.N. Street, W.H. Wolberg and O.L. Mangasarian. Nuclear feature extraction \\n     for breast tumor diagnosis. IS&T/SPIE 1993 International Symposium on \\n     Electronic Imaging: Science and Technology, volume 1905, pages 861-870,\\n     San Jose, CA, 1993.\\n   - O.L. Mangasarian, W.N. Street and W.H. Wolberg. Breast cancer diagnosis and \\n     prognosis via linear programming. Operations Research, 43(4), pages 570-577, \\n     July-August 1995.\\n   - W.H. Wolberg, W.N. Street, and O.L. Mangasarian. Machine learning techniques\\n     to diagnose breast cancer from fine-needle aspirates. Cancer Letters 77 (1994) \\n     163-171.',\n",
       " 'feature_names': array(['mean radius', 'mean texture', 'mean perimeter', 'mean area',\n",
       "        'mean smoothness', 'mean compactness', 'mean concavity',\n",
       "        'mean concave points', 'mean symmetry', 'mean fractal dimension',\n",
       "        'radius error', 'texture error', 'perimeter error', 'area error',\n",
       "        'smoothness error', 'compactness error', 'concavity error',\n",
       "        'concave points error', 'symmetry error',\n",
       "        'fractal dimension error', 'worst radius', 'worst texture',\n",
       "        'worst perimeter', 'worst area', 'worst smoothness',\n",
       "        'worst compactness', 'worst concavity', 'worst concave points',\n",
       "        'worst symmetry', 'worst fractal dimension'], dtype='<U23'),\n",
       " 'filename': 'C:\\\\Users\\\\bnarapar\\\\Anaconda3\\\\envs\\\\tf\\\\lib\\\\site-packages\\\\sklearn\\\\datasets\\\\data\\\\breast_cancer.csv'}"
      ]
     },
     "execution_count": 7,
     "metadata": {},
     "output_type": "execute_result"
    }
   ],
   "source": [
    "data"
   ]
  },
  {
   "cell_type": "code",
   "execution_count": 8,
   "id": "typical-underwear",
   "metadata": {},
   "outputs": [
    {
     "data": {
      "text/plain": [
       "array([[1.799e+01, 1.038e+01, 1.228e+02, ..., 2.654e-01, 4.601e-01,\n",
       "        1.189e-01],\n",
       "       [2.057e+01, 1.777e+01, 1.329e+02, ..., 1.860e-01, 2.750e-01,\n",
       "        8.902e-02],\n",
       "       [1.969e+01, 2.125e+01, 1.300e+02, ..., 2.430e-01, 3.613e-01,\n",
       "        8.758e-02],\n",
       "       ...,\n",
       "       [1.660e+01, 2.808e+01, 1.083e+02, ..., 1.418e-01, 2.218e-01,\n",
       "        7.820e-02],\n",
       "       [2.060e+01, 2.933e+01, 1.401e+02, ..., 2.650e-01, 4.087e-01,\n",
       "        1.240e-01],\n",
       "       [7.760e+00, 2.454e+01, 4.792e+01, ..., 0.000e+00, 2.871e-01,\n",
       "        7.039e-02]])"
      ]
     },
     "execution_count": 8,
     "metadata": {},
     "output_type": "execute_result"
    }
   ],
   "source": [
    "data['data']"
   ]
  },
  {
   "cell_type": "code",
   "execution_count": 15,
   "id": "virgin-ceramic",
   "metadata": {},
   "outputs": [
    {
     "data": {
      "text/plain": [
       "(569,)"
      ]
     },
     "execution_count": 15,
     "metadata": {},
     "output_type": "execute_result"
    }
   ],
   "source": [
    "data.target.shape"
   ]
  },
  {
   "cell_type": "code",
   "execution_count": 20,
   "id": "simple-fence",
   "metadata": {},
   "outputs": [
    {
     "data": {
      "text/plain": [
       "dict_keys(['data', 'target', 'frame', 'target_names', 'DESCR', 'feature_names', 'filename'])"
      ]
     },
     "execution_count": 20,
     "metadata": {},
     "output_type": "execute_result"
    }
   ],
   "source": [
    "data.keys()"
   ]
  },
  {
   "cell_type": "code",
   "execution_count": 21,
   "id": "digital-brand",
   "metadata": {},
   "outputs": [
    {
     "data": {
      "text/plain": [
       "array(['malignant', 'benign'], dtype='<U9')"
      ]
     },
     "execution_count": 21,
     "metadata": {},
     "output_type": "execute_result"
    }
   ],
   "source": [
    "data.target_names"
   ]
  },
  {
   "cell_type": "code",
   "execution_count": 25,
   "id": "figured-sally",
   "metadata": {
    "scrolled": true
   },
   "outputs": [
    {
     "data": {
      "text/plain": [
       "'.. _breast_cancer_dataset:\\n\\nBreast cancer wisconsin (diagnostic) dataset\\n--------------------------------------------\\n\\n**Data Set Characteristics:**\\n\\n    :Number of Instances: 569\\n\\n    :Number of Attributes: 30 numeric, predictive attributes and the class\\n\\n    :Attribute Information:\\n        - radius (mean of distances from center to points on the perimeter)\\n        - texture (standard deviation of gray-scale values)\\n        - perimeter\\n        - area\\n        - smoothness (local variation in radius lengths)\\n        - compactness (perimeter^2 / area - 1.0)\\n        - concavity (severity of concave portions of the contour)\\n        - concave points (number of concave portions of the contour)\\n        - symmetry\\n        - fractal dimension (\"coastline approximation\" - 1)\\n\\n        The mean, standard error, and \"worst\" or largest (mean of the three\\n        worst/largest values) of these features were computed for each image,\\n        resulting in 30 features.  For instance, field 0 is Mean Radius, field\\n        10 is Radius SE, field 20 is Worst Radius.\\n\\n        - class:\\n                - WDBC-Malignant\\n                - WDBC-Benign\\n\\n    :Summary Statistics:\\n\\n    ===================================== ====== ======\\n                                           Min    Max\\n    ===================================== ====== ======\\n    radius (mean):                        6.981  28.11\\n    texture (mean):                       9.71   39.28\\n    perimeter (mean):                     43.79  188.5\\n    area (mean):                          143.5  2501.0\\n    smoothness (mean):                    0.053  0.163\\n    compactness (mean):                   0.019  0.345\\n    concavity (mean):                     0.0    0.427\\n    concave points (mean):                0.0    0.201\\n    symmetry (mean):                      0.106  0.304\\n    fractal dimension (mean):             0.05   0.097\\n    radius (standard error):              0.112  2.873\\n    texture (standard error):             0.36   4.885\\n    perimeter (standard error):           0.757  21.98\\n    area (standard error):                6.802  542.2\\n    smoothness (standard error):          0.002  0.031\\n    compactness (standard error):         0.002  0.135\\n    concavity (standard error):           0.0    0.396\\n    concave points (standard error):      0.0    0.053\\n    symmetry (standard error):            0.008  0.079\\n    fractal dimension (standard error):   0.001  0.03\\n    radius (worst):                       7.93   36.04\\n    texture (worst):                      12.02  49.54\\n    perimeter (worst):                    50.41  251.2\\n    area (worst):                         185.2  4254.0\\n    smoothness (worst):                   0.071  0.223\\n    compactness (worst):                  0.027  1.058\\n    concavity (worst):                    0.0    1.252\\n    concave points (worst):               0.0    0.291\\n    symmetry (worst):                     0.156  0.664\\n    fractal dimension (worst):            0.055  0.208\\n    ===================================== ====== ======\\n\\n    :Missing Attribute Values: None\\n\\n    :Class Distribution: 212 - Malignant, 357 - Benign\\n\\n    :Creator:  Dr. William H. Wolberg, W. Nick Street, Olvi L. Mangasarian\\n\\n    :Donor: Nick Street\\n\\n    :Date: November, 1995\\n\\nThis is a copy of UCI ML Breast Cancer Wisconsin (Diagnostic) datasets.\\nhttps://goo.gl/U2Uwz2\\n\\nFeatures are computed from a digitized image of a fine needle\\naspirate (FNA) of a breast mass.  They describe\\ncharacteristics of the cell nuclei present in the image.\\n\\nSeparating plane described above was obtained using\\nMultisurface Method-Tree (MSM-T) [K. P. Bennett, \"Decision Tree\\nConstruction Via Linear Programming.\" Proceedings of the 4th\\nMidwest Artificial Intelligence and Cognitive Science Society,\\npp. 97-101, 1992], a classification method which uses linear\\nprogramming to construct a decision tree.  Relevant features\\nwere selected using an exhaustive search in the space of 1-4\\nfeatures and 1-3 separating planes.\\n\\nThe actual linear program used to obtain the separating plane\\nin the 3-dimensional space is that described in:\\n[K. P. Bennett and O. L. Mangasarian: \"Robust Linear\\nProgramming Discrimination of Two Linearly Inseparable Sets\",\\nOptimization Methods and Software 1, 1992, 23-34].\\n\\nThis database is also available through the UW CS ftp server:\\n\\nftp ftp.cs.wisc.edu\\ncd math-prog/cpo-dataset/machine-learn/WDBC/\\n\\n.. topic:: References\\n\\n   - W.N. Street, W.H. Wolberg and O.L. Mangasarian. Nuclear feature extraction \\n     for breast tumor diagnosis. IS&T/SPIE 1993 International Symposium on \\n     Electronic Imaging: Science and Technology, volume 1905, pages 861-870,\\n     San Jose, CA, 1993.\\n   - O.L. Mangasarian, W.N. Street and W.H. Wolberg. Breast cancer diagnosis and \\n     prognosis via linear programming. Operations Research, 43(4), pages 570-577, \\n     July-August 1995.\\n   - W.H. Wolberg, W.N. Street, and O.L. Mangasarian. Machine learning techniques\\n     to diagnose breast cancer from fine-needle aspirates. Cancer Letters 77 (1994) \\n     163-171.'"
      ]
     },
     "execution_count": 25,
     "metadata": {},
     "output_type": "execute_result"
    }
   ],
   "source": [
    "data.DESCR"
   ]
  },
  {
   "cell_type": "code",
   "execution_count": 27,
   "id": "acute-greeting",
   "metadata": {},
   "outputs": [
    {
     "data": {
      "text/plain": [
       "'C:\\\\Users\\\\bnarapar\\\\Anaconda3\\\\envs\\\\tf\\\\lib\\\\site-packages\\\\sklearn\\\\datasets\\\\data\\\\breast_cancer.csv'"
      ]
     },
     "execution_count": 27,
     "metadata": {},
     "output_type": "execute_result"
    }
   ],
   "source": [
    "data.filename"
   ]
  },
  {
   "cell_type": "code",
   "execution_count": 30,
   "id": "steady-journey",
   "metadata": {},
   "outputs": [
    {
     "data": {
      "text/plain": [
       "array(['mean radius', 'mean texture', 'mean perimeter', 'mean area',\n",
       "       'mean smoothness', 'mean compactness', 'mean concavity',\n",
       "       'mean concave points', 'mean symmetry', 'mean fractal dimension',\n",
       "       'radius error', 'texture error', 'perimeter error', 'area error',\n",
       "       'smoothness error', 'compactness error', 'concavity error',\n",
       "       'concave points error', 'symmetry error',\n",
       "       'fractal dimension error', 'worst radius', 'worst texture',\n",
       "       'worst perimeter', 'worst area', 'worst smoothness',\n",
       "       'worst compactness', 'worst concavity', 'worst concave points',\n",
       "       'worst symmetry', 'worst fractal dimension'], dtype='<U23')"
      ]
     },
     "execution_count": 30,
     "metadata": {},
     "output_type": "execute_result"
    }
   ],
   "source": [
    "data.feature_names"
   ]
  },
  {
   "cell_type": "code",
   "execution_count": 7,
   "id": "concerned-slave",
   "metadata": {},
   "outputs": [],
   "source": [
    "from sklearn.model_selection import train_test_split\n",
    "\n",
    "x_train, x_test, y_train, y_test = train_test_split(data.data,data.target,test_size=0.3)"
   ]
  },
  {
   "cell_type": "code",
   "execution_count": 33,
   "id": "loaded-diameter",
   "metadata": {},
   "outputs": [
    {
     "data": {
      "text/plain": [
       "(398, 30)"
      ]
     },
     "execution_count": 33,
     "metadata": {},
     "output_type": "execute_result"
    }
   ],
   "source": [
    "x_train.shape"
   ]
  },
  {
   "cell_type": "code",
   "execution_count": 8,
   "id": "designed-brother",
   "metadata": {},
   "outputs": [],
   "source": [
    "n, d = x_train.shape"
   ]
  },
  {
   "cell_type": "code",
   "execution_count": 9,
   "id": "double-porcelain",
   "metadata": {},
   "outputs": [],
   "source": [
    "from sklearn.preprocessing import StandardScaler\n",
    "scaler=StandardScaler()\n",
    "x_train=scaler.fit_transform(x_train)\n",
    "x_test=scaler.transform(x_test)"
   ]
  },
  {
   "cell_type": "code",
   "execution_count": 7,
   "id": "covered-expense",
   "metadata": {},
   "outputs": [
    {
     "name": "stdout",
     "output_type": "stream",
     "text": [
      "Epoch 1/100\n",
      "13/13 [==============================] - 0s 8ms/step - loss: 1.3048 - accuracy: 0.1884 - val_loss: 1.2345 - val_accuracy: 0.2339\n",
      "Epoch 2/100\n",
      "13/13 [==============================] - 0s 1ms/step - loss: 1.1820 - accuracy: 0.2035 - val_loss: 1.0994 - val_accuracy: 0.3158\n",
      "Epoch 3/100\n",
      "13/13 [==============================] - 0s 1ms/step - loss: 1.0677 - accuracy: 0.2538 - val_loss: 0.9779 - val_accuracy: 0.3626\n",
      "Epoch 4/100\n",
      "13/13 [==============================] - 0s 1ms/step - loss: 0.9690 - accuracy: 0.3040 - val_loss: 0.8677 - val_accuracy: 0.3801\n",
      "Epoch 5/100\n",
      "13/13 [==============================] - 0s 1ms/step - loss: 0.8762 - accuracy: 0.3945 - val_loss: 0.7772 - val_accuracy: 0.4737\n",
      "Epoch 6/100\n",
      "13/13 [==============================] - 0s 1ms/step - loss: 0.7983 - accuracy: 0.4648 - val_loss: 0.7014 - val_accuracy: 0.5497\n",
      "Epoch 7/100\n",
      "13/13 [==============================] - 0s 1ms/step - loss: 0.7302 - accuracy: 0.5503 - val_loss: 0.6399 - val_accuracy: 0.6199\n",
      "Epoch 8/100\n",
      "13/13 [==============================] - 0s 1ms/step - loss: 0.6725 - accuracy: 0.6231 - val_loss: 0.5882 - val_accuracy: 0.6901\n",
      "Epoch 9/100\n",
      "13/13 [==============================] - 0s 1ms/step - loss: 0.6226 - accuracy: 0.6809 - val_loss: 0.5446 - val_accuracy: 0.7368\n",
      "Epoch 10/100\n",
      "13/13 [==============================] - 0s 1ms/step - loss: 0.5798 - accuracy: 0.7236 - val_loss: 0.5072 - val_accuracy: 0.7895\n",
      "Epoch 11/100\n",
      "13/13 [==============================] - 0s 1ms/step - loss: 0.5426 - accuracy: 0.7513 - val_loss: 0.4753 - val_accuracy: 0.8187\n",
      "Epoch 12/100\n",
      "13/13 [==============================] - 0s 1ms/step - loss: 0.5100 - accuracy: 0.7839 - val_loss: 0.4481 - val_accuracy: 0.8246\n",
      "Epoch 13/100\n",
      "13/13 [==============================] - 0s 1ms/step - loss: 0.4821 - accuracy: 0.8090 - val_loss: 0.4242 - val_accuracy: 0.8363\n",
      "Epoch 14/100\n",
      "13/13 [==============================] - 0s 1ms/step - loss: 0.4570 - accuracy: 0.8216 - val_loss: 0.4031 - val_accuracy: 0.8480\n",
      "Epoch 15/100\n",
      "13/13 [==============================] - 0s 2ms/step - loss: 0.4345 - accuracy: 0.8317 - val_loss: 0.3848 - val_accuracy: 0.8655\n",
      "Epoch 16/100\n",
      "13/13 [==============================] - 0s 2ms/step - loss: 0.4154 - accuracy: 0.8417 - val_loss: 0.3681 - val_accuracy: 0.8830\n",
      "Epoch 17/100\n",
      "13/13 [==============================] - 0s 1ms/step - loss: 0.3970 - accuracy: 0.8568 - val_loss: 0.3536 - val_accuracy: 0.8889\n",
      "Epoch 18/100\n",
      "13/13 [==============================] - 0s 2ms/step - loss: 0.3810 - accuracy: 0.8643 - val_loss: 0.3403 - val_accuracy: 0.8947\n",
      "Epoch 19/100\n",
      "13/13 [==============================] - 0s 2ms/step - loss: 0.3661 - accuracy: 0.8794 - val_loss: 0.3284 - val_accuracy: 0.8947\n",
      "Epoch 20/100\n",
      "13/13 [==============================] - 0s 2ms/step - loss: 0.3526 - accuracy: 0.8945 - val_loss: 0.3170 - val_accuracy: 0.9064\n",
      "Epoch 21/100\n",
      "13/13 [==============================] - 0s 1ms/step - loss: 0.3400 - accuracy: 0.8945 - val_loss: 0.3064 - val_accuracy: 0.9064\n",
      "Epoch 22/100\n",
      "13/13 [==============================] - 0s 1ms/step - loss: 0.3283 - accuracy: 0.9020 - val_loss: 0.2969 - val_accuracy: 0.9064\n",
      "Epoch 23/100\n",
      "13/13 [==============================] - 0s 2ms/step - loss: 0.3175 - accuracy: 0.9045 - val_loss: 0.2880 - val_accuracy: 0.9064\n",
      "Epoch 24/100\n",
      "13/13 [==============================] - 0s 1ms/step - loss: 0.3074 - accuracy: 0.9095 - val_loss: 0.2798 - val_accuracy: 0.9123\n",
      "Epoch 25/100\n",
      "13/13 [==============================] - 0s 1ms/step - loss: 0.2982 - accuracy: 0.9095 - val_loss: 0.2721 - val_accuracy: 0.9181\n",
      "Epoch 26/100\n",
      "13/13 [==============================] - 0s 1ms/step - loss: 0.2892 - accuracy: 0.9121 - val_loss: 0.2651 - val_accuracy: 0.9181\n",
      "Epoch 27/100\n",
      "13/13 [==============================] - 0s 1ms/step - loss: 0.2810 - accuracy: 0.9146 - val_loss: 0.2586 - val_accuracy: 0.9181\n",
      "Epoch 28/100\n",
      "13/13 [==============================] - 0s 1ms/step - loss: 0.2732 - accuracy: 0.9196 - val_loss: 0.2524 - val_accuracy: 0.9181\n",
      "Epoch 29/100\n",
      "13/13 [==============================] - 0s 1ms/step - loss: 0.2659 - accuracy: 0.9196 - val_loss: 0.2465 - val_accuracy: 0.9181\n",
      "Epoch 30/100\n",
      "13/13 [==============================] - 0s 1ms/step - loss: 0.2589 - accuracy: 0.9246 - val_loss: 0.2411 - val_accuracy: 0.9181\n",
      "Epoch 31/100\n",
      "13/13 [==============================] - 0s 1ms/step - loss: 0.2524 - accuracy: 0.9246 - val_loss: 0.2361 - val_accuracy: 0.9181\n",
      "Epoch 32/100\n",
      "13/13 [==============================] - 0s 2ms/step - loss: 0.2461 - accuracy: 0.9322 - val_loss: 0.2313 - val_accuracy: 0.9181\n",
      "Epoch 33/100\n",
      "13/13 [==============================] - 0s 2ms/step - loss: 0.2403 - accuracy: 0.9322 - val_loss: 0.2268 - val_accuracy: 0.9240\n",
      "Epoch 34/100\n",
      "13/13 [==============================] - 0s 2ms/step - loss: 0.2348 - accuracy: 0.9347 - val_loss: 0.2223 - val_accuracy: 0.9240\n",
      "Epoch 35/100\n",
      "13/13 [==============================] - 0s 2ms/step - loss: 0.2292 - accuracy: 0.9347 - val_loss: 0.2184 - val_accuracy: 0.9240\n",
      "Epoch 36/100\n",
      "13/13 [==============================] - 0s 1ms/step - loss: 0.2241 - accuracy: 0.9372 - val_loss: 0.2145 - val_accuracy: 0.9240\n",
      "Epoch 37/100\n",
      "13/13 [==============================] - 0s 1ms/step - loss: 0.2192 - accuracy: 0.9422 - val_loss: 0.2108 - val_accuracy: 0.9240\n",
      "Epoch 38/100\n",
      "13/13 [==============================] - 0s 2ms/step - loss: 0.2145 - accuracy: 0.9422 - val_loss: 0.2072 - val_accuracy: 0.9298\n",
      "Epoch 39/100\n",
      "13/13 [==============================] - 0s 1ms/step - loss: 0.2100 - accuracy: 0.9472 - val_loss: 0.2038 - val_accuracy: 0.9357\n",
      "Epoch 40/100\n",
      "13/13 [==============================] - ETA: 0s - loss: 0.2364 - accuracy: 0.93 - 0s 1ms/step - loss: 0.2056 - accuracy: 0.9472 - val_loss: 0.2007 - val_accuracy: 0.9357\n",
      "Epoch 41/100\n",
      "13/13 [==============================] - 0s 1ms/step - loss: 0.2016 - accuracy: 0.9472 - val_loss: 0.1976 - val_accuracy: 0.9357\n",
      "Epoch 42/100\n",
      "13/13 [==============================] - 0s 2ms/step - loss: 0.1975 - accuracy: 0.9472 - val_loss: 0.1947 - val_accuracy: 0.9357\n",
      "Epoch 43/100\n",
      "13/13 [==============================] - 0s 2ms/step - loss: 0.1938 - accuracy: 0.9497 - val_loss: 0.1919 - val_accuracy: 0.9357\n",
      "Epoch 44/100\n",
      "13/13 [==============================] - 0s 1ms/step - loss: 0.1900 - accuracy: 0.9523 - val_loss: 0.1893 - val_accuracy: 0.9357\n",
      "Epoch 45/100\n",
      "13/13 [==============================] - 0s 1ms/step - loss: 0.1864 - accuracy: 0.9548 - val_loss: 0.1867 - val_accuracy: 0.9415\n",
      "Epoch 46/100\n",
      "13/13 [==============================] - 0s 1ms/step - loss: 0.1830 - accuracy: 0.9548 - val_loss: 0.1843 - val_accuracy: 0.9415\n",
      "Epoch 47/100\n",
      "13/13 [==============================] - 0s 2ms/step - loss: 0.1797 - accuracy: 0.9548 - val_loss: 0.1820 - val_accuracy: 0.9474\n",
      "Epoch 48/100\n",
      "13/13 [==============================] - 0s 1ms/step - loss: 0.1767 - accuracy: 0.9573 - val_loss: 0.1797 - val_accuracy: 0.9474\n",
      "Epoch 49/100\n",
      "13/13 [==============================] - 0s 1ms/step - loss: 0.1736 - accuracy: 0.9573 - val_loss: 0.1776 - val_accuracy: 0.9474\n",
      "Epoch 50/100\n",
      "13/13 [==============================] - 0s 2ms/step - loss: 0.1707 - accuracy: 0.9573 - val_loss: 0.1758 - val_accuracy: 0.9474\n",
      "Epoch 51/100\n",
      "13/13 [==============================] - 0s 1ms/step - loss: 0.1679 - accuracy: 0.9573 - val_loss: 0.1738 - val_accuracy: 0.9474\n",
      "Epoch 52/100\n",
      "13/13 [==============================] - 0s 1ms/step - loss: 0.1653 - accuracy: 0.9573 - val_loss: 0.1719 - val_accuracy: 0.9474\n",
      "Epoch 53/100\n",
      "13/13 [==============================] - 0s 2ms/step - loss: 0.1627 - accuracy: 0.9598 - val_loss: 0.1702 - val_accuracy: 0.9532\n",
      "Epoch 54/100\n",
      "13/13 [==============================] - 0s 1ms/step - loss: 0.1602 - accuracy: 0.9623 - val_loss: 0.1684 - val_accuracy: 0.9532\n",
      "Epoch 55/100\n",
      "13/13 [==============================] - 0s 1ms/step - loss: 0.1578 - accuracy: 0.9648 - val_loss: 0.1668 - val_accuracy: 0.9532\n",
      "Epoch 56/100\n",
      "13/13 [==============================] - 0s 1ms/step - loss: 0.1555 - accuracy: 0.9623 - val_loss: 0.1652 - val_accuracy: 0.9591\n",
      "Epoch 57/100\n",
      "13/13 [==============================] - 0s 1ms/step - loss: 0.1532 - accuracy: 0.9648 - val_loss: 0.1636 - val_accuracy: 0.9591\n",
      "Epoch 58/100\n",
      "13/13 [==============================] - 0s 1ms/step - loss: 0.1510 - accuracy: 0.9648 - val_loss: 0.1622 - val_accuracy: 0.9591\n",
      "Epoch 59/100\n",
      "13/13 [==============================] - 0s 1ms/step - loss: 0.1489 - accuracy: 0.9673 - val_loss: 0.1608 - val_accuracy: 0.9591\n",
      "Epoch 60/100\n",
      "13/13 [==============================] - 0s 2ms/step - loss: 0.1468 - accuracy: 0.9673 - val_loss: 0.1594 - val_accuracy: 0.9591\n",
      "Epoch 61/100\n",
      "13/13 [==============================] - 0s 1ms/step - loss: 0.1448 - accuracy: 0.9698 - val_loss: 0.1580 - val_accuracy: 0.9591\n",
      "Epoch 62/100\n",
      "13/13 [==============================] - 0s 2ms/step - loss: 0.1429 - accuracy: 0.9698 - val_loss: 0.1567 - val_accuracy: 0.9591\n",
      "Epoch 63/100\n",
      "13/13 [==============================] - 0s 1ms/step - loss: 0.1410 - accuracy: 0.9724 - val_loss: 0.1554 - val_accuracy: 0.9591\n",
      "Epoch 64/100\n",
      "13/13 [==============================] - 0s 1ms/step - loss: 0.1392 - accuracy: 0.9724 - val_loss: 0.1542 - val_accuracy: 0.9591\n",
      "Epoch 65/100\n",
      "13/13 [==============================] - 0s 1ms/step - loss: 0.1376 - accuracy: 0.9724 - val_loss: 0.1531 - val_accuracy: 0.9591\n",
      "Epoch 66/100\n",
      "13/13 [==============================] - 0s 2ms/step - loss: 0.1358 - accuracy: 0.9724 - val_loss: 0.1521 - val_accuracy: 0.9591\n",
      "Epoch 67/100\n",
      "13/13 [==============================] - 0s 1ms/step - loss: 0.1342 - accuracy: 0.9724 - val_loss: 0.1510 - val_accuracy: 0.9591\n",
      "Epoch 68/100\n",
      "13/13 [==============================] - 0s 1ms/step - loss: 0.1326 - accuracy: 0.9724 - val_loss: 0.1500 - val_accuracy: 0.9591\n",
      "Epoch 69/100\n",
      "13/13 [==============================] - 0s 1ms/step - loss: 0.1309 - accuracy: 0.9724 - val_loss: 0.1490 - val_accuracy: 0.9591\n",
      "Epoch 70/100\n",
      "13/13 [==============================] - ETA: 0s - loss: 0.1613 - accuracy: 0.96 - 0s 1ms/step - loss: 0.1295 - accuracy: 0.9724 - val_loss: 0.1480 - val_accuracy: 0.9591\n",
      "Epoch 71/100\n",
      "13/13 [==============================] - 0s 1ms/step - loss: 0.1280 - accuracy: 0.9724 - val_loss: 0.1471 - val_accuracy: 0.9591\n",
      "Epoch 72/100\n",
      "13/13 [==============================] - 0s 2ms/step - loss: 0.1266 - accuracy: 0.9724 - val_loss: 0.1463 - val_accuracy: 0.9591\n",
      "Epoch 73/100\n",
      "13/13 [==============================] - 0s 1ms/step - loss: 0.1252 - accuracy: 0.9724 - val_loss: 0.1453 - val_accuracy: 0.9591\n",
      "Epoch 74/100\n",
      "13/13 [==============================] - 0s 1ms/step - loss: 0.1239 - accuracy: 0.9724 - val_loss: 0.1444 - val_accuracy: 0.9591\n",
      "Epoch 75/100\n",
      "13/13 [==============================] - 0s 1ms/step - loss: 0.1225 - accuracy: 0.9749 - val_loss: 0.1436 - val_accuracy: 0.9591\n",
      "Epoch 76/100\n",
      "13/13 [==============================] - 0s 1ms/step - loss: 0.1213 - accuracy: 0.9749 - val_loss: 0.1428 - val_accuracy: 0.9591\n",
      "Epoch 77/100\n",
      "13/13 [==============================] - 0s 1ms/step - loss: 0.1201 - accuracy: 0.9749 - val_loss: 0.1420 - val_accuracy: 0.9591\n",
      "Epoch 78/100\n",
      "13/13 [==============================] - 0s 1ms/step - loss: 0.1188 - accuracy: 0.9774 - val_loss: 0.1413 - val_accuracy: 0.9591\n",
      "Epoch 79/100\n",
      "13/13 [==============================] - 0s 1ms/step - loss: 0.1177 - accuracy: 0.9774 - val_loss: 0.1405 - val_accuracy: 0.9591\n",
      "Epoch 80/100\n",
      "13/13 [==============================] - 0s 1ms/step - loss: 0.1165 - accuracy: 0.9774 - val_loss: 0.1398 - val_accuracy: 0.9591\n",
      "Epoch 81/100\n",
      "13/13 [==============================] - 0s 1ms/step - loss: 0.1154 - accuracy: 0.9774 - val_loss: 0.1392 - val_accuracy: 0.9591\n",
      "Epoch 82/100\n",
      "13/13 [==============================] - 0s 2ms/step - loss: 0.1143 - accuracy: 0.9774 - val_loss: 0.1386 - val_accuracy: 0.9591\n",
      "Epoch 83/100\n",
      "13/13 [==============================] - 0s 2ms/step - loss: 0.1132 - accuracy: 0.9799 - val_loss: 0.1379 - val_accuracy: 0.9591\n",
      "Epoch 84/100\n",
      "13/13 [==============================] - 0s 2ms/step - loss: 0.1121 - accuracy: 0.9799 - val_loss: 0.1372 - val_accuracy: 0.9649\n",
      "Epoch 85/100\n",
      "13/13 [==============================] - 0s 1ms/step - loss: 0.1111 - accuracy: 0.9799 - val_loss: 0.1366 - val_accuracy: 0.9649\n",
      "Epoch 86/100\n",
      "13/13 [==============================] - 0s 1ms/step - loss: 0.1101 - accuracy: 0.9799 - val_loss: 0.1361 - val_accuracy: 0.9649\n",
      "Epoch 87/100\n",
      "13/13 [==============================] - 0s 1ms/step - loss: 0.1091 - accuracy: 0.9799 - val_loss: 0.1355 - val_accuracy: 0.9649\n",
      "Epoch 88/100\n",
      "13/13 [==============================] - 0s 2ms/step - loss: 0.1082 - accuracy: 0.9799 - val_loss: 0.1349 - val_accuracy: 0.9649\n",
      "Epoch 89/100\n",
      "13/13 [==============================] - 0s 1ms/step - loss: 0.1073 - accuracy: 0.9824 - val_loss: 0.1344 - val_accuracy: 0.9649\n",
      "Epoch 90/100\n",
      "13/13 [==============================] - 0s 1ms/step - loss: 0.1064 - accuracy: 0.9824 - val_loss: 0.1339 - val_accuracy: 0.9649\n",
      "Epoch 91/100\n",
      "13/13 [==============================] - 0s 1ms/step - loss: 0.1055 - accuracy: 0.9824 - val_loss: 0.1333 - val_accuracy: 0.9649\n",
      "Epoch 92/100\n",
      "13/13 [==============================] - 0s 1ms/step - loss: 0.1046 - accuracy: 0.9824 - val_loss: 0.1328 - val_accuracy: 0.9649\n",
      "Epoch 93/100\n",
      "13/13 [==============================] - 0s 1ms/step - loss: 0.1038 - accuracy: 0.9824 - val_loss: 0.1323 - val_accuracy: 0.9649\n",
      "Epoch 94/100\n",
      "13/13 [==============================] - 0s 1ms/step - loss: 0.1029 - accuracy: 0.9824 - val_loss: 0.1319 - val_accuracy: 0.9649\n",
      "Epoch 95/100\n",
      "13/13 [==============================] - 0s 1ms/step - loss: 0.1021 - accuracy: 0.9824 - val_loss: 0.1314 - val_accuracy: 0.9649\n",
      "Epoch 96/100\n",
      "13/13 [==============================] - 0s 2ms/step - loss: 0.1013 - accuracy: 0.9824 - val_loss: 0.1310 - val_accuracy: 0.9649\n",
      "Epoch 97/100\n",
      "13/13 [==============================] - 0s 2ms/step - loss: 0.1005 - accuracy: 0.9824 - val_loss: 0.1305 - val_accuracy: 0.9649\n",
      "Epoch 98/100\n",
      "13/13 [==============================] - 0s 1ms/step - loss: 0.0998 - accuracy: 0.9824 - val_loss: 0.1301 - val_accuracy: 0.9649\n",
      "Epoch 99/100\n",
      "13/13 [==============================] - 0s 1ms/step - loss: 0.0990 - accuracy: 0.9824 - val_loss: 0.1297 - val_accuracy: 0.9649\n",
      "Epoch 100/100\n",
      "13/13 [==============================] - 0s 2ms/step - loss: 0.0983 - accuracy: 0.9824 - val_loss: 0.1293 - val_accuracy: 0.9649\n",
      "13/13 [==============================] - 0s 460us/step - loss: 0.0978 - accuracy: 0.9824\n",
      "Train Score: [0.09781565517187119, 0.9824120402336121]\n",
      "6/6 [==============================] - 0s 665us/step - loss: 0.1293 - accuracy: 0.9649\n",
      "Test Score: [0.12928614020347595, 0.9649122953414917]\n"
     ]
    }
   ],
   "source": [
    "model = tf.keras.models.Sequential([\n",
    "    tf.keras.layers.Input(shape=(d,)),\n",
    "    tf.keras.layers.Dense(1,activation='sigmoid')\n",
    "])\n",
    "\n",
    "model.compile(optimizer='adam',loss='binary_crossentropy',metrics=['accuracy'])\n",
    "r=model.fit(x_train,y_train,validation_data=(x_test,y_test),epochs=100)\n",
    "\n",
    "print('Train Score:',model.evaluate(x_train,y_train))\n",
    "print('Test Score:',model.evaluate(x_test,y_test))"
   ]
  },
  {
   "cell_type": "code",
   "execution_count": 8,
   "id": "copyrighted-launch",
   "metadata": {},
   "outputs": [
    {
     "data": {
      "text/plain": [
       "<matplotlib.legend.Legend at 0x1a3c6b6a970>"
      ]
     },
     "execution_count": 8,
     "metadata": {},
     "output_type": "execute_result"
    },
    {
     "data": {
      "image/png": "[encoded data removed]",
      "text/plain": [
       "<Figure size 432x288 with 1 Axes>"
      ]
     },
     "metadata": {
      "needs_background": "light"
     },
     "output_type": "display_data"
    }
   ],
   "source": [
    "import matplotlib.pyplot as plt\n",
    "plt.plot(r.history['loss'],label='loss')\n",
    "plt.plot(r.history['val_loss'],label='val_loss')\n",
    "plt.legend()"
   ]
  },
  {
   "cell_type": "code",
   "execution_count": 41,
   "id": "opposite-capacity",
   "metadata": {},
   "outputs": [
    {
     "data": {
      "text/plain": [
       "dict_keys(['loss', 'accuracy', 'val_loss', 'val_accuracy'])"
      ]
     },
     "execution_count": 41,
     "metadata": {},
     "output_type": "execute_result"
    }
   ],
   "source": [
    "r.history.keys()"
   ]
  },
  {
   "cell_type": "code",
   "execution_count": 42,
   "id": "growing-primary",
   "metadata": {},
   "outputs": [
    {
     "data": {
      "text/plain": [
       "<matplotlib.legend.Legend at 0x1cc510a8f40>"
      ]
     },
     "execution_count": 42,
     "metadata": {},
     "output_type": "execute_result"
    },
    {
     "data": {
      "image/png": "[encoded data removed]",
      "text/plain": [
       "<Figure size 432x288 with 1 Axes>"
      ]
     },
     "metadata": {
      "needs_background": "light"
     },
     "output_type": "display_data"
    }
   ],
   "source": [
    "plt.plot(r.history['accuracy'],label='acc')\n",
    "plt.plot(r.history['val_accuracy'],label='val_acc')\n",
    "plt.legend()"
   ]
  },
  {
   "cell_type": "markdown",
   "id": "entitled-pulse",
   "metadata": {},
   "source": [
    "#### Making Predictions"
   ]
  },
  {
   "cell_type": "code",
   "execution_count": 10,
   "id": "mediterranean-intellectual",
   "metadata": {},
   "outputs": [
    {
     "name": "stdout",
     "output_type": "stream",
     "text": [
      "[[9.69310820e-01]\n",
      " [9.97858763e-01]\n",
      " [8.13540041e-01]\n",
      " [8.84887099e-01]\n",
      " [9.96522546e-01]\n",
      " [9.89735126e-04]\n",
      " [1.77090764e-02]\n",
      " [5.74740708e-01]\n",
      " [3.12232405e-01]\n",
      " [9.94121909e-01]\n",
      " [2.55769789e-01]\n",
      " [9.44044113e-01]\n",
      " [9.36520755e-01]\n",
      " [9.76648331e-01]\n",
      " [4.05311357e-06]\n",
      " [9.94672239e-01]\n",
      " [9.95413899e-01]\n",
      " [1.71408027e-01]\n",
      " [9.99371886e-01]\n",
      " [9.97101307e-01]\n",
      " [9.98916268e-01]\n",
      " [9.97360767e-05]\n",
      " [9.33966994e-01]\n",
      " [9.86736655e-01]\n",
      " [7.25788295e-01]\n",
      " [7.13082433e-01]\n",
      " [7.64796350e-05]\n",
      " [9.55337882e-01]\n",
      " [3.80179286e-03]\n",
      " [8.58335018e-01]\n",
      " [9.41410065e-01]\n",
      " [7.86677122e-01]\n",
      " [9.64083135e-01]\n",
      " [9.91371036e-01]\n",
      " [5.52073121e-03]\n",
      " [9.80727911e-01]\n",
      " [9.80998755e-01]\n",
      " [9.90894079e-01]\n",
      " [2.99672961e-01]\n",
      " [1.22198462e-02]\n",
      " [9.96589303e-01]\n",
      " [9.96026039e-01]\n",
      " [8.07184458e-01]\n",
      " [9.54687595e-04]\n",
      " [3.00705433e-04]\n",
      " [2.08199024e-04]\n",
      " [9.61425066e-01]\n",
      " [3.96122694e-01]\n",
      " [8.10993612e-02]\n",
      " [9.99695599e-01]\n",
      " [9.79193509e-01]\n",
      " [9.77802753e-01]\n",
      " [3.74924481e-01]\n",
      " [9.88777876e-01]\n",
      " [9.77640212e-01]\n",
      " [9.35056806e-01]\n",
      " [8.71799350e-01]\n",
      " [4.42182853e-11]\n",
      " [8.86750937e-01]\n",
      " [8.71477962e-01]\n",
      " [9.98233140e-01]\n",
      " [9.78294432e-01]\n",
      " [2.64716744e-02]\n",
      " [5.73378801e-03]\n",
      " [2.57338513e-07]\n",
      " [8.77521276e-01]\n",
      " [9.87659216e-01]\n",
      " [2.28106976e-04]\n",
      " [9.05105948e-01]\n",
      " [4.25094366e-03]\n",
      " [1.05837375e-01]\n",
      " [1.58808529e-02]\n",
      " [1.14811927e-01]\n",
      " [1.26615660e-07]\n",
      " [8.98778489e-06]\n",
      " [9.25640106e-01]\n",
      " [9.81184483e-01]\n",
      " [8.73497188e-01]\n",
      " [7.87022233e-01]\n",
      " [9.98669684e-01]\n",
      " [2.43246555e-04]\n",
      " [9.99088883e-01]\n",
      " [9.91020322e-01]\n",
      " [7.50941038e-03]\n",
      " [9.12109256e-01]\n",
      " [9.93243039e-01]\n",
      " [9.73742962e-01]\n",
      " [9.90047812e-01]\n",
      " [1.24357939e-01]\n",
      " [9.69384193e-01]\n",
      " [8.92928004e-01]\n",
      " [2.29597092e-03]\n",
      " [2.46084034e-02]\n",
      " [8.43763351e-02]\n",
      " [9.89179492e-01]\n",
      " [6.15577996e-02]\n",
      " [6.38797224e-01]\n",
      " [1.37592256e-02]\n",
      " [1.45462871e-01]\n",
      " [4.60144877e-03]\n",
      " [2.34186649e-04]\n",
      " [5.30906558e-01]\n",
      " [8.40975881e-01]\n",
      " [2.64108181e-04]\n",
      " [4.25393283e-02]\n",
      " [9.76708889e-01]\n",
      " [2.66599655e-03]\n",
      " [9.73960817e-01]\n",
      " [9.10573721e-01]\n",
      " [9.62390900e-01]\n",
      " [9.89883661e-01]\n",
      " [9.45004344e-01]\n",
      " [1.41017735e-02]\n",
      " [2.55648345e-01]\n",
      " [2.48596072e-03]\n",
      " [1.28956139e-02]\n",
      " [9.98661160e-01]\n",
      " [2.13953555e-02]\n",
      " [9.41651251e-06]\n",
      " [9.46470916e-01]\n",
      " [8.98592949e-01]\n",
      " [5.22310734e-01]\n",
      " [9.95314300e-01]\n",
      " [3.43879402e-01]\n",
      " [9.83678579e-01]\n",
      " [1.69888226e-05]\n",
      " [9.48824883e-02]\n",
      " [4.66018915e-04]\n",
      " [4.89881531e-05]\n",
      " [4.10671782e-06]\n",
      " [9.63567436e-01]\n",
      " [1.04445219e-03]\n",
      " [9.60827649e-01]\n",
      " [9.96639132e-01]\n",
      " [9.82115388e-01]\n",
      " [7.36877322e-03]\n",
      " [8.23534310e-01]\n",
      " [1.13257670e-06]\n",
      " [9.74551082e-01]\n",
      " [9.96039391e-01]\n",
      " [9.17681336e-01]\n",
      " [5.59813857e-01]\n",
      " [9.55384970e-01]\n",
      " [1.58910155e-02]\n",
      " [1.02865696e-03]\n",
      " [9.80338693e-01]\n",
      " [2.43216753e-04]\n",
      " [2.46062875e-03]\n",
      " [9.51145053e-01]\n",
      " [8.51014793e-01]\n",
      " [5.29312019e-05]\n",
      " [4.98671532e-02]\n",
      " [9.17599916e-01]\n",
      " [7.24613667e-04]\n",
      " [5.20383418e-02]\n",
      " [1.79207325e-03]\n",
      " [1.23858452e-04]\n",
      " [3.50070000e-03]\n",
      " [2.16675997e-02]\n",
      " [9.94013309e-01]\n",
      " [9.72393870e-01]\n",
      " [9.31889772e-01]\n",
      " [8.91102910e-01]\n",
      " [8.51462245e-01]\n",
      " [1.61836147e-02]\n",
      " [9.78187144e-01]\n",
      " [7.82790661e-01]\n",
      " [9.29422259e-01]\n",
      " [9.97658312e-01]\n",
      " [9.82783079e-01]\n",
      " [9.71684396e-01]]\n"
     ]
    }
   ],
   "source": [
    "p=model.predict(x_test)\n",
    "print(p)"
   ]
  },
  {
   "cell_type": "code",
   "execution_count": 11,
   "id": "grateful-speech",
   "metadata": {},
   "outputs": [
    {
     "name": "stdout",
     "output_type": "stream",
     "text": [
      "[1. 1. 1. 1. 1. 0. 0. 1. 0. 1. 0. 1. 1. 1. 0. 1. 1. 0. 1. 1. 1. 0. 1. 1.\n",
      " 1. 1. 0. 1. 0. 1. 1. 1. 1. 1. 0. 1. 1. 1. 0. 0. 1. 1. 1. 0. 0. 0. 1. 0.\n",
      " 0. 1. 1. 1. 0. 1. 1. 1. 1. 0. 1. 1. 1. 1. 0. 0. 0. 1. 1. 0. 1. 0. 0. 0.\n",
      " 0. 0. 0. 1. 1. 1. 1. 1. 0. 1. 1. 0. 1. 1. 1. 1. 0. 1. 1. 0. 0. 0. 1. 0.\n",
      " 1. 0. 0. 0. 0. 1. 1. 0. 0. 1. 0. 1. 1. 1. 1. 1. 0. 0. 0. 0. 1. 0. 0. 1.\n",
      " 1. 1. 1. 0. 1. 0. 0. 0. 0. 0. 1. 0. 1. 1. 1. 0. 1. 0. 1. 1. 1. 1. 1. 0.\n",
      " 0. 1. 0. 0. 1. 1. 0. 0. 1. 0. 0. 0. 0. 0. 0. 1. 1. 1. 1. 1. 0. 1. 1. 1.\n",
      " 1. 1. 1.]\n"
     ]
    }
   ],
   "source": [
    "import numpy as np\n",
    "p=np.round(p).flatten()\n",
    "print(p)"
   ]
  },
  {
   "cell_type": "code",
   "execution_count": 15,
   "id": "combined-medicare",
   "metadata": {},
   "outputs": [
    {
     "name": "stdout",
     "output_type": "stream",
     "text": [
      "Manually Calculated Accuracy:  0.9649122807017544\n",
      "6/6 [==============================] - 0s 499us/step - loss: 0.1293 - accuracy: 0.9649\n",
      "Evaluate Output:  [0.12928614020347595, 0.9649122953414917]\n"
     ]
    }
   ],
   "source": [
    "#Calculate the accuracy and compare it with the evaluate() output\n",
    "print('Manually Calculated Accuracy: ',np.mean(p==y_test))\n",
    "print('Evaluate Output: ',model.evaluate(x_test,y_test))"
   ]
  },
  {
   "cell_type": "markdown",
   "id": "documented-retrieval",
   "metadata": {},
   "source": [
    "#### Saving and Loading a Model"
   ]
  },
  {
   "cell_type": "code",
   "execution_count": 16,
   "id": "similar-means",
   "metadata": {},
   "outputs": [],
   "source": [
    "model.save('linearclassifier.h5')"
   ]
  },
  {
   "cell_type": "code",
   "execution_count": 2,
   "id": "seven-greene",
   "metadata": {},
   "outputs": [
    {
     "name": "stdout",
     "output_type": "stream",
     "text": [
      "[<tensorflow.python.keras.layers.core.Dense object at 0x000001F5912D0E20>]\n"
     ]
    }
   ],
   "source": [
    "import tensorflow as tf\n",
    "model=tf.keras.models.load_model('linearclassifier.h5')\n",
    "print(model.layers)"
   ]
  },
  {
   "cell_type": "code",
   "execution_count": 10,
   "id": "rising-creativity",
   "metadata": {},
   "outputs": [
    {
     "name": "stdout",
     "output_type": "stream",
     "text": [
      "6/6 [==============================] - 0s 658us/step - loss: 0.0942 - accuracy: 0.9883\n"
     ]
    },
    {
     "data": {
      "text/plain": [
       "[0.09424227476119995, 0.988304078578949]"
      ]
     },
     "execution_count": 10,
     "metadata": {},
     "output_type": "execute_result"
    }
   ],
   "source": [
    "model.evaluate(x_test,y_test)"
   ]
  }
 ],
 "metadata": {
  "kernelspec": {
   "display_name": "Python 3",
   "language": "python",
   "name": "python3"
  },
  "language_info": {
   "codemirror_mode": {
    "name": "ipython",
    "version": 3
   },
   "file_extension": ".py",
   "mimetype": "text/x-python",
   "name": "python",
   "nbconvert_exporter": "python",
   "pygments_lexer": "ipython3",
   "version": "3.8.8"
  }
 },
 "nbformat": 4,
 "nbformat_minor": 5
}
