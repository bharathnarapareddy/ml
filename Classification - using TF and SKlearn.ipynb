{
 "cells": [
  {
   "cell_type": "markdown",
   "id": "psychological-farming",
   "metadata": {},
   "source": [
    "### Classification"
   ]
  },
  {
   "cell_type": "code",
   "execution_count": 1,
   "id": "surface-retail",
   "metadata": {},
   "outputs": [],
   "source": [
    "import tensorflow as tf"
   ]
  },
  {
   "cell_type": "code",
   "execution_count": 2,
   "id": "spectacular-restoration",
   "metadata": {},
   "outputs": [
    {
     "data": {
      "text/plain": [
       "'2.3.0'"
      ]
     },
     "execution_count": 2,
     "metadata": {},
     "output_type": "execute_result"
    }
   ],
   "source": [
    "tf.__version__"
   ]
  },
  {
   "cell_type": "code",
   "execution_count": 4,
   "id": "saving-collect",
   "metadata": {},
   "outputs": [],
   "source": [
    "from sklearn.datasets import load_breast_cancer"
   ]
  },
  {
   "cell_type": "code",
   "execution_count": 5,
   "id": "adjusted-winner",
   "metadata": {},
   "outputs": [],
   "source": [
    "data=load_breast_cancer()"
   ]
  },
  {
   "cell_type": "code",
   "execution_count": 6,
   "id": "affiliated-humidity",
   "metadata": {},
   "outputs": [
    {
     "data": {
      "text/plain": [
       "sklearn.utils.Bunch"
      ]
     },
     "execution_count": 6,
     "metadata": {},
     "output_type": "execute_result"
    }
   ],
   "source": [
    "type(data)"
   ]
  },
  {
   "cell_type": "code",
   "execution_count": 7,
   "id": "detected-income",
   "metadata": {},
   "outputs": [
    {
     "data": {
      "text/plain": [
       "{'data': array([[1.799e+01, 1.038e+01, 1.228e+02, ..., 2.654e-01, 4.601e-01,\n",
       "         1.189e-01],\n",
       "        [2.057e+01, 1.777e+01, 1.329e+02, ..., 1.860e-01, 2.750e-01,\n",
       "         8.902e-02],\n",
       "        [1.969e+01, 2.125e+01, 1.300e+02, ..., 2.430e-01, 3.613e-01,\n",
       "         8.758e-02],\n",
       "        ...,\n",
       "        [1.660e+01, 2.808e+01, 1.083e+02, ..., 1.418e-01, 2.218e-01,\n",
       "         7.820e-02],\n",
       "        [2.060e+01, 2.933e+01, 1.401e+02, ..., 2.650e-01, 4.087e-01,\n",
       "         1.240e-01],\n",
       "        [7.760e+00, 2.454e+01, 4.792e+01, ..., 0.000e+00, 2.871e-01,\n",
       "         7.039e-02]]),\n",
       " 'target': array([0, 0, 0, 0, 0, 0, 0, 0, 0, 0, 0, 0, 0, 0, 0, 0, 0, 0, 0, 1, 1, 1,\n",
       "        0, 0, 0, 0, 0, 0, 0, 0, 0, 0, 0, 0, 0, 0, 0, 1, 0, 0, 0, 0, 0, 0,\n",
       "        0, 0, 1, 0, 1, 1, 1, 1, 1, 0, 0, 1, 0, 0, 1, 1, 1, 1, 0, 1, 0, 0,\n",
       "        1, 1, 1, 1, 0, 1, 0, 0, 1, 0, 1, 0, 0, 1, 1, 1, 0, 0, 1, 0, 0, 0,\n",
       "        1, 1, 1, 0, 1, 1, 0, 0, 1, 1, 1, 0, 0, 1, 1, 1, 1, 0, 1, 1, 0, 1,\n",
       "        1, 1, 1, 1, 1, 1, 1, 0, 0, 0, 1, 0, 0, 1, 1, 1, 0, 0, 1, 0, 1, 0,\n",
       "        0, 1, 0, 0, 1, 1, 0, 1, 1, 0, 1, 1, 1, 1, 0, 1, 1, 1, 1, 1, 1, 1,\n",
       "        1, 1, 0, 1, 1, 1, 1, 0, 0, 1, 0, 1, 1, 0, 0, 1, 1, 0, 0, 1, 1, 1,\n",
       "        1, 0, 1, 1, 0, 0, 0, 1, 0, 1, 0, 1, 1, 1, 0, 1, 1, 0, 0, 1, 0, 0,\n",
       "        0, 0, 1, 0, 0, 0, 1, 0, 1, 0, 1, 1, 0, 1, 0, 0, 0, 0, 1, 1, 0, 0,\n",
       "        1, 1, 1, 0, 1, 1, 1, 1, 1, 0, 0, 1, 1, 0, 1, 1, 0, 0, 1, 0, 1, 1,\n",
       "        1, 1, 0, 1, 1, 1, 1, 1, 0, 1, 0, 0, 0, 0, 0, 0, 0, 0, 0, 0, 0, 0,\n",
       "        0, 0, 1, 1, 1, 1, 1, 1, 0, 1, 0, 1, 1, 0, 1, 1, 0, 1, 0, 0, 1, 1,\n",
       "        1, 1, 1, 1, 1, 1, 1, 1, 1, 1, 1, 0, 1, 1, 0, 1, 0, 1, 1, 1, 1, 1,\n",
       "        1, 1, 1, 1, 1, 1, 1, 1, 1, 0, 1, 1, 1, 0, 1, 0, 1, 1, 1, 1, 0, 0,\n",
       "        0, 1, 1, 1, 1, 0, 1, 0, 1, 0, 1, 1, 1, 0, 1, 1, 1, 1, 1, 1, 1, 0,\n",
       "        0, 0, 1, 1, 1, 1, 1, 1, 1, 1, 1, 1, 1, 0, 0, 1, 0, 0, 0, 1, 0, 0,\n",
       "        1, 1, 1, 1, 1, 0, 1, 1, 1, 1, 1, 0, 1, 1, 1, 0, 1, 1, 0, 0, 1, 1,\n",
       "        1, 1, 1, 1, 0, 1, 1, 1, 1, 1, 1, 1, 0, 1, 1, 1, 1, 1, 0, 1, 1, 0,\n",
       "        1, 1, 1, 1, 1, 1, 1, 1, 1, 1, 1, 1, 0, 1, 0, 0, 1, 0, 1, 1, 1, 1,\n",
       "        1, 0, 1, 1, 0, 1, 0, 1, 1, 0, 1, 0, 1, 1, 1, 1, 1, 1, 1, 1, 0, 0,\n",
       "        1, 1, 1, 1, 1, 1, 0, 1, 1, 1, 1, 1, 1, 1, 1, 1, 1, 0, 1, 1, 1, 1,\n",
       "        1, 1, 1, 0, 1, 0, 1, 1, 0, 1, 1, 1, 1, 1, 0, 0, 1, 0, 1, 0, 1, 1,\n",
       "        1, 1, 1, 0, 1, 1, 0, 1, 0, 1, 0, 0, 1, 1, 1, 0, 1, 1, 1, 1, 1, 1,\n",
       "        1, 1, 1, 1, 1, 0, 1, 0, 0, 1, 1, 1, 1, 1, 1, 1, 1, 1, 1, 1, 1, 1,\n",
       "        1, 1, 1, 1, 1, 1, 1, 1, 1, 1, 1, 1, 0, 0, 0, 0, 0, 0, 1]),\n",
       " 'frame': None,\n",
       " 'target_names': array(['malignant', 'benign'], dtype='<U9'),\n",
       " 'DESCR': '.. _breast_cancer_dataset:\\n\\nBreast cancer wisconsin (diagnostic) dataset\\n--------------------------------------------\\n\\n**Data Set Characteristics:**\\n\\n    :Number of Instances: 569\\n\\n    :Number of Attributes: 30 numeric, predictive attributes and the class\\n\\n    :Attribute Information:\\n        - radius (mean of distances from center to points on the perimeter)\\n        - texture (standard deviation of gray-scale values)\\n        - perimeter\\n        - area\\n        - smoothness (local variation in radius lengths)\\n        - compactness (perimeter^2 / area - 1.0)\\n        - concavity (severity of concave portions of the contour)\\n        - concave points (number of concave portions of the contour)\\n        - symmetry\\n        - fractal dimension (\"coastline approximation\" - 1)\\n\\n        The mean, standard error, and \"worst\" or largest (mean of the three\\n        worst/largest values) of these features were computed for each image,\\n        resulting in 30 features.  For instance, field 0 is Mean Radius, field\\n        10 is Radius SE, field 20 is Worst Radius.\\n\\n        - class:\\n                - WDBC-Malignant\\n                - WDBC-Benign\\n\\n    :Summary Statistics:\\n\\n    ===================================== ====== ======\\n                                           Min    Max\\n    ===================================== ====== ======\\n    radius (mean):                        6.981  28.11\\n    texture (mean):                       9.71   39.28\\n    perimeter (mean):                     43.79  188.5\\n    area (mean):                          143.5  2501.0\\n    smoothness (mean):                    0.053  0.163\\n    compactness (mean):                   0.019  0.345\\n    concavity (mean):                     0.0    0.427\\n    concave points (mean):                0.0    0.201\\n    symmetry (mean):                      0.106  0.304\\n    fractal dimension (mean):             0.05   0.097\\n    radius (standard error):              0.112  2.873\\n    texture (standard error):             0.36   4.885\\n    perimeter (standard error):           0.757  21.98\\n    area (standard error):                6.802  542.2\\n    smoothness (standard error):          0.002  0.031\\n    compactness (standard error):         0.002  0.135\\n    concavity (standard error):           0.0    0.396\\n    concave points (standard error):      0.0    0.053\\n    symmetry (standard error):            0.008  0.079\\n    fractal dimension (standard error):   0.001  0.03\\n    radius (worst):                       7.93   36.04\\n    texture (worst):                      12.02  49.54\\n    perimeter (worst):                    50.41  251.2\\n    area (worst):                         185.2  4254.0\\n    smoothness (worst):                   0.071  0.223\\n    compactness (worst):                  0.027  1.058\\n    concavity (worst):                    0.0    1.252\\n    concave points (worst):               0.0    0.291\\n    symmetry (worst):                     0.156  0.664\\n    fractal dimension (worst):            0.055  0.208\\n    ===================================== ====== ======\\n\\n    :Missing Attribute Values: None\\n\\n    :Class Distribution: 212 - Malignant, 357 - Benign\\n\\n    :Creator:  Dr. William H. Wolberg, W. Nick Street, Olvi L. Mangasarian\\n\\n    :Donor: Nick Street\\n\\n    :Date: November, 1995\\n\\nThis is a copy of UCI ML Breast Cancer Wisconsin (Diagnostic) datasets.\\nhttps://goo.gl/U2Uwz2\\n\\nFeatures are computed from a digitized image of a fine needle\\naspirate (FNA) of a breast mass.  They describe\\ncharacteristics of the cell nuclei present in the image.\\n\\nSeparating plane described above was obtained using\\nMultisurface Method-Tree (MSM-T) [K. P. Bennett, \"Decision Tree\\nConstruction Via Linear Programming.\" Proceedings of the 4th\\nMidwest Artificial Intelligence and Cognitive Science Society,\\npp. 97-101, 1992], a classification method which uses linear\\nprogramming to construct a decision tree.  Relevant features\\nwere selected using an exhaustive search in the space of 1-4\\nfeatures and 1-3 separating planes.\\n\\nThe actual linear program used to obtain the separating plane\\nin the 3-dimensional space is that described in:\\n[K. P. Bennett and O. L. Mangasarian: \"Robust Linear\\nProgramming Discrimination of Two Linearly Inseparable Sets\",\\nOptimization Methods and Software 1, 1992, 23-34].\\n\\nThis database is also available through the UW CS ftp server:\\n\\nftp ftp.cs.wisc.edu\\ncd math-prog/cpo-dataset/machine-learn/WDBC/\\n\\n.. topic:: References\\n\\n   - W.N. Street, W.H. Wolberg and O.L. Mangasarian. Nuclear feature extraction \\n     for breast tumor diagnosis. IS&T/SPIE 1993 International Symposium on \\n     Electronic Imaging: Science and Technology, volume 1905, pages 861-870,\\n     San Jose, CA, 1993.\\n   - O.L. Mangasarian, W.N. Street and W.H. Wolberg. Breast cancer diagnosis and \\n     prognosis via linear programming. Operations Research, 43(4), pages 570-577, \\n     July-August 1995.\\n   - W.H. Wolberg, W.N. Street, and O.L. Mangasarian. Machine learning techniques\\n     to diagnose breast cancer from fine-needle aspirates. Cancer Letters 77 (1994) \\n     163-171.',\n",
       " 'feature_names': array(['mean radius', 'mean texture', 'mean perimeter', 'mean area',\n",
       "        'mean smoothness', 'mean compactness', 'mean concavity',\n",
       "        'mean concave points', 'mean symmetry', 'mean fractal dimension',\n",
       "        'radius error', 'texture error', 'perimeter error', 'area error',\n",
       "        'smoothness error', 'compactness error', 'concavity error',\n",
       "        'concave points error', 'symmetry error',\n",
       "        'fractal dimension error', 'worst radius', 'worst texture',\n",
       "        'worst perimeter', 'worst area', 'worst smoothness',\n",
       "        'worst compactness', 'worst concavity', 'worst concave points',\n",
       "        'worst symmetry', 'worst fractal dimension'], dtype='<U23'),\n",
       " 'filename': 'C:\\\\Users\\\\bnarapar\\\\Anaconda3\\\\envs\\\\tf\\\\lib\\\\site-packages\\\\sklearn\\\\datasets\\\\data\\\\breast_cancer.csv'}"
      ]
     },
     "execution_count": 7,
     "metadata": {},
     "output_type": "execute_result"
    }
   ],
   "source": [
    "data"
   ]
  },
  {
   "cell_type": "code",
   "execution_count": 8,
   "id": "typical-underwear",
   "metadata": {},
   "outputs": [
    {
     "data": {
      "text/plain": [
       "array([[1.799e+01, 1.038e+01, 1.228e+02, ..., 2.654e-01, 4.601e-01,\n",
       "        1.189e-01],\n",
       "       [2.057e+01, 1.777e+01, 1.329e+02, ..., 1.860e-01, 2.750e-01,\n",
       "        8.902e-02],\n",
       "       [1.969e+01, 2.125e+01, 1.300e+02, ..., 2.430e-01, 3.613e-01,\n",
       "        8.758e-02],\n",
       "       ...,\n",
       "       [1.660e+01, 2.808e+01, 1.083e+02, ..., 1.418e-01, 2.218e-01,\n",
       "        7.820e-02],\n",
       "       [2.060e+01, 2.933e+01, 1.401e+02, ..., 2.650e-01, 4.087e-01,\n",
       "        1.240e-01],\n",
       "       [7.760e+00, 2.454e+01, 4.792e+01, ..., 0.000e+00, 2.871e-01,\n",
       "        7.039e-02]])"
      ]
     },
     "execution_count": 8,
     "metadata": {},
     "output_type": "execute_result"
    }
   ],
   "source": [
    "data['data']"
   ]
  },
  {
   "cell_type": "code",
   "execution_count": 15,
   "id": "virgin-ceramic",
   "metadata": {},
   "outputs": [
    {
     "data": {
      "text/plain": [
       "(569,)"
      ]
     },
     "execution_count": 15,
     "metadata": {},
     "output_type": "execute_result"
    }
   ],
   "source": [
    "data.target.shape"
   ]
  },
  {
   "cell_type": "code",
   "execution_count": 20,
   "id": "simple-fence",
   "metadata": {},
   "outputs": [
    {
     "data": {
      "text/plain": [
       "dict_keys(['data', 'target', 'frame', 'target_names', 'DESCR', 'feature_names', 'filename'])"
      ]
     },
     "execution_count": 20,
     "metadata": {},
     "output_type": "execute_result"
    }
   ],
   "source": [
    "data.keys()"
   ]
  },
  {
   "cell_type": "code",
   "execution_count": 21,
   "id": "digital-brand",
   "metadata": {},
   "outputs": [
    {
     "data": {
      "text/plain": [
       "array(['malignant', 'benign'], dtype='<U9')"
      ]
     },
     "execution_count": 21,
     "metadata": {},
     "output_type": "execute_result"
    }
   ],
   "source": [
    "data.target_names"
   ]
  },
  {
   "cell_type": "code",
   "execution_count": 25,
   "id": "figured-sally",
   "metadata": {
    "scrolled": true
   },
   "outputs": [
    {
     "data": {
      "text/plain": [
       "'.. _breast_cancer_dataset:\\n\\nBreast cancer wisconsin (diagnostic) dataset\\n--------------------------------------------\\n\\n**Data Set Characteristics:**\\n\\n    :Number of Instances: 569\\n\\n    :Number of Attributes: 30 numeric, predictive attributes and the class\\n\\n    :Attribute Information:\\n        - radius (mean of distances from center to points on the perimeter)\\n        - texture (standard deviation of gray-scale values)\\n        - perimeter\\n        - area\\n        - smoothness (local variation in radius lengths)\\n        - compactness (perimeter^2 / area - 1.0)\\n        - concavity (severity of concave portions of the contour)\\n        - concave points (number of concave portions of the contour)\\n        - symmetry\\n        - fractal dimension (\"coastline approximation\" - 1)\\n\\n        The mean, standard error, and \"worst\" or largest (mean of the three\\n        worst/largest values) of these features were computed for each image,\\n        resulting in 30 features.  For instance, field 0 is Mean Radius, field\\n        10 is Radius SE, field 20 is Worst Radius.\\n\\n        - class:\\n                - WDBC-Malignant\\n                - WDBC-Benign\\n\\n    :Summary Statistics:\\n\\n    ===================================== ====== ======\\n                                           Min    Max\\n    ===================================== ====== ======\\n    radius (mean):                        6.981  28.11\\n    texture (mean):                       9.71   39.28\\n    perimeter (mean):                     43.79  188.5\\n    area (mean):                          143.5  2501.0\\n    smoothness (mean):                    0.053  0.163\\n    compactness (mean):                   0.019  0.345\\n    concavity (mean):                     0.0    0.427\\n    concave points (mean):                0.0    0.201\\n    symmetry (mean):                      0.106  0.304\\n    fractal dimension (mean):             0.05   0.097\\n    radius (standard error):              0.112  2.873\\n    texture (standard error):             0.36   4.885\\n    perimeter (standard error):           0.757  21.98\\n    area (standard error):                6.802  542.2\\n    smoothness (standard error):          0.002  0.031\\n    compactness (standard error):         0.002  0.135\\n    concavity (standard error):           0.0    0.396\\n    concave points (standard error):      0.0    0.053\\n    symmetry (standard error):            0.008  0.079\\n    fractal dimension (standard error):   0.001  0.03\\n    radius (worst):                       7.93   36.04\\n    texture (worst):                      12.02  49.54\\n    perimeter (worst):                    50.41  251.2\\n    area (worst):                         185.2  4254.0\\n    smoothness (worst):                   0.071  0.223\\n    compactness (worst):                  0.027  1.058\\n    concavity (worst):                    0.0    1.252\\n    concave points (worst):               0.0    0.291\\n    symmetry (worst):                     0.156  0.664\\n    fractal dimension (worst):            0.055  0.208\\n    ===================================== ====== ======\\n\\n    :Missing Attribute Values: None\\n\\n    :Class Distribution: 212 - Malignant, 357 - Benign\\n\\n    :Creator:  Dr. William H. Wolberg, W. Nick Street, Olvi L. Mangasarian\\n\\n    :Donor: Nick Street\\n\\n    :Date: November, 1995\\n\\nThis is a copy of UCI ML Breast Cancer Wisconsin (Diagnostic) datasets.\\nhttps://goo.gl/U2Uwz2\\n\\nFeatures are computed from a digitized image of a fine needle\\naspirate (FNA) of a breast mass.  They describe\\ncharacteristics of the cell nuclei present in the image.\\n\\nSeparating plane described above was obtained using\\nMultisurface Method-Tree (MSM-T) [K. P. Bennett, \"Decision Tree\\nConstruction Via Linear Programming.\" Proceedings of the 4th\\nMidwest Artificial Intelligence and Cognitive Science Society,\\npp. 97-101, 1992], a classification method which uses linear\\nprogramming to construct a decision tree.  Relevant features\\nwere selected using an exhaustive search in the space of 1-4\\nfeatures and 1-3 separating planes.\\n\\nThe actual linear program used to obtain the separating plane\\nin the 3-dimensional space is that described in:\\n[K. P. Bennett and O. L. Mangasarian: \"Robust Linear\\nProgramming Discrimination of Two Linearly Inseparable Sets\",\\nOptimization Methods and Software 1, 1992, 23-34].\\n\\nThis database is also available through the UW CS ftp server:\\n\\nftp ftp.cs.wisc.edu\\ncd math-prog/cpo-dataset/machine-learn/WDBC/\\n\\n.. topic:: References\\n\\n   - W.N. Street, W.H. Wolberg and O.L. Mangasarian. Nuclear feature extraction \\n     for breast tumor diagnosis. IS&T/SPIE 1993 International Symposium on \\n     Electronic Imaging: Science and Technology, volume 1905, pages 861-870,\\n     San Jose, CA, 1993.\\n   - O.L. Mangasarian, W.N. Street and W.H. Wolberg. Breast cancer diagnosis and \\n     prognosis via linear programming. Operations Research, 43(4), pages 570-577, \\n     July-August 1995.\\n   - W.H. Wolberg, W.N. Street, and O.L. Mangasarian. Machine learning techniques\\n     to diagnose breast cancer from fine-needle aspirates. Cancer Letters 77 (1994) \\n     163-171.'"
      ]
     },
     "execution_count": 25,
     "metadata": {},
     "output_type": "execute_result"
    }
   ],
   "source": [
    "data.DESCR"
   ]
  },
  {
   "cell_type": "code",
   "execution_count": 27,
   "id": "acute-greeting",
   "metadata": {},
   "outputs": [
    {
     "data": {
      "text/plain": [
       "'C:\\\\Users\\\\bnarapar\\\\Anaconda3\\\\envs\\\\tf\\\\lib\\\\site-packages\\\\sklearn\\\\datasets\\\\data\\\\breast_cancer.csv'"
      ]
     },
     "execution_count": 27,
     "metadata": {},
     "output_type": "execute_result"
    }
   ],
   "source": [
    "data.filename"
   ]
  },
  {
   "cell_type": "code",
   "execution_count": 30,
   "id": "steady-journey",
   "metadata": {},
   "outputs": [
    {
     "data": {
      "text/plain": [
       "array(['mean radius', 'mean texture', 'mean perimeter', 'mean area',\n",
       "       'mean smoothness', 'mean compactness', 'mean concavity',\n",
       "       'mean concave points', 'mean symmetry', 'mean fractal dimension',\n",
       "       'radius error', 'texture error', 'perimeter error', 'area error',\n",
       "       'smoothness error', 'compactness error', 'concavity error',\n",
       "       'concave points error', 'symmetry error',\n",
       "       'fractal dimension error', 'worst radius', 'worst texture',\n",
       "       'worst perimeter', 'worst area', 'worst smoothness',\n",
       "       'worst compactness', 'worst concavity', 'worst concave points',\n",
       "       'worst symmetry', 'worst fractal dimension'], dtype='<U23')"
      ]
     },
     "execution_count": 30,
     "metadata": {},
     "output_type": "execute_result"
    }
   ],
   "source": [
    "data.feature_names"
   ]
  },
  {
   "cell_type": "code",
   "execution_count": 32,
   "id": "concerned-slave",
   "metadata": {},
   "outputs": [],
   "source": [
    "from sklearn.model_selection import train_test_split\n",
    "\n",
    "x_train, x_test, y_train, y_test = train_test_split(data.data,data.target,test_size=0.3)"
   ]
  },
  {
   "cell_type": "code",
   "execution_count": 33,
   "id": "loaded-diameter",
   "metadata": {},
   "outputs": [
    {
     "data": {
      "text/plain": [
       "(398, 30)"
      ]
     },
     "execution_count": 33,
     "metadata": {},
     "output_type": "execute_result"
    }
   ],
   "source": [
    "x_train.shape"
   ]
  },
  {
   "cell_type": "code",
   "execution_count": 34,
   "id": "designed-brother",
   "metadata": {},
   "outputs": [],
   "source": [
    "n, d = x_train.shape"
   ]
  },
  {
   "cell_type": "code",
   "execution_count": 36,
   "id": "double-porcelain",
   "metadata": {},
   "outputs": [],
   "source": [
    "from sklearn.preprocessing import StandardScaler\n",
    "scaler=StandardScaler()\n",
    "x_train=scaler.fit_transform(x_train)\n",
    "x_test=scaler.transform(x_test)"
   ]
  },
  {
   "cell_type": "code",
   "execution_count": 37,
   "id": "covered-expense",
   "metadata": {},
   "outputs": [
    {
     "name": "stdout",
     "output_type": "stream",
     "text": [
      "Epoch 1/100\n",
      "13/13 [==============================] - 0s 34ms/step - loss: 1.7956 - accuracy: 0.1030 - val_loss: 1.6737 - val_accuracy: 0.1345\n",
      "Epoch 2/100\n",
      "13/13 [==============================] - 0s 3ms/step - loss: 1.6413 - accuracy: 0.1055 - val_loss: 1.5290 - val_accuracy: 0.1345\n",
      "Epoch 3/100\n",
      "13/13 [==============================] - 0s 3ms/step - loss: 1.4942 - accuracy: 0.1131 - val_loss: 1.3916 - val_accuracy: 0.1462\n",
      "Epoch 4/100\n",
      "13/13 [==============================] - 0s 5ms/step - loss: 1.3531 - accuracy: 0.1307 - val_loss: 1.2614 - val_accuracy: 0.1579\n",
      "Epoch 5/100\n",
      "13/13 [==============================] - 0s 3ms/step - loss: 1.2208 - accuracy: 0.1457 - val_loss: 1.1402 - val_accuracy: 0.1754\n",
      "Epoch 6/100\n",
      "13/13 [==============================] - 0s 3ms/step - loss: 1.1003 - accuracy: 0.1709 - val_loss: 1.0284 - val_accuracy: 0.1988\n",
      "Epoch 7/100\n",
      "13/13 [==============================] - 0s 3ms/step - loss: 0.9893 - accuracy: 0.2186 - val_loss: 0.9286 - val_accuracy: 0.2456\n",
      "Epoch 8/100\n",
      "13/13 [==============================] - 0s 3ms/step - loss: 0.8882 - accuracy: 0.2814 - val_loss: 0.8405 - val_accuracy: 0.3509\n",
      "Epoch 9/100\n",
      "13/13 [==============================] - 0s 3ms/step - loss: 0.8042 - accuracy: 0.4146 - val_loss: 0.7615 - val_accuracy: 0.4854\n",
      "Epoch 10/100\n",
      "13/13 [==============================] - 0s 3ms/step - loss: 0.7282 - accuracy: 0.5452 - val_loss: 0.6941 - val_accuracy: 0.5556\n",
      "Epoch 11/100\n",
      "13/13 [==============================] - 0s 4ms/step - loss: 0.6640 - accuracy: 0.6482 - val_loss: 0.6370 - val_accuracy: 0.6608\n",
      "Epoch 12/100\n",
      "13/13 [==============================] - 0s 4ms/step - loss: 0.6106 - accuracy: 0.7211 - val_loss: 0.5882 - val_accuracy: 0.7427\n",
      "Epoch 13/100\n",
      "13/13 [==============================] - 0s 4ms/step - loss: 0.5647 - accuracy: 0.7814 - val_loss: 0.5461 - val_accuracy: 0.8012\n",
      "Epoch 14/100\n",
      "13/13 [==============================] - 0s 4ms/step - loss: 0.5261 - accuracy: 0.8116 - val_loss: 0.5096 - val_accuracy: 0.8246\n",
      "Epoch 15/100\n",
      "13/13 [==============================] - 0s 5ms/step - loss: 0.4919 - accuracy: 0.8492 - val_loss: 0.4791 - val_accuracy: 0.8304\n",
      "Epoch 16/100\n",
      "13/13 [==============================] - 0s 4ms/step - loss: 0.4638 - accuracy: 0.8643 - val_loss: 0.4511 - val_accuracy: 0.8596\n",
      "Epoch 17/100\n",
      "13/13 [==============================] - 0s 4ms/step - loss: 0.4379 - accuracy: 0.8945 - val_loss: 0.4272 - val_accuracy: 0.8713\n",
      "Epoch 18/100\n",
      "13/13 [==============================] - 0s 3ms/step - loss: 0.4156 - accuracy: 0.9045 - val_loss: 0.4061 - val_accuracy: 0.9006\n",
      "Epoch 19/100\n",
      "13/13 [==============================] - 0s 4ms/step - loss: 0.3958 - accuracy: 0.9146 - val_loss: 0.3878 - val_accuracy: 0.9006\n",
      "Epoch 20/100\n",
      "13/13 [==============================] - 0s 4ms/step - loss: 0.3784 - accuracy: 0.9196 - val_loss: 0.3710 - val_accuracy: 0.9123\n",
      "Epoch 21/100\n",
      "13/13 [==============================] - 0s 3ms/step - loss: 0.3627 - accuracy: 0.9196 - val_loss: 0.3558 - val_accuracy: 0.9064\n",
      "Epoch 22/100\n",
      "13/13 [==============================] - 0s 2ms/step - loss: 0.3486 - accuracy: 0.9246 - val_loss: 0.3420 - val_accuracy: 0.9181\n",
      "Epoch 23/100\n",
      "13/13 [==============================] - 0s 3ms/step - loss: 0.3355 - accuracy: 0.9246 - val_loss: 0.3298 - val_accuracy: 0.9181\n",
      "Epoch 24/100\n",
      "13/13 [==============================] - 0s 3ms/step - loss: 0.3238 - accuracy: 0.9322 - val_loss: 0.3186 - val_accuracy: 0.9240\n",
      "Epoch 25/100\n",
      "13/13 [==============================] - 0s 4ms/step - loss: 0.3133 - accuracy: 0.9322 - val_loss: 0.3079 - val_accuracy: 0.9240\n",
      "Epoch 26/100\n",
      "13/13 [==============================] - 0s 4ms/step - loss: 0.3033 - accuracy: 0.9322 - val_loss: 0.2983 - val_accuracy: 0.9240\n",
      "Epoch 27/100\n",
      "13/13 [==============================] - 0s 4ms/step - loss: 0.2942 - accuracy: 0.9322 - val_loss: 0.2896 - val_accuracy: 0.9298\n",
      "Epoch 28/100\n",
      "13/13 [==============================] - 0s 3ms/step - loss: 0.2859 - accuracy: 0.9372 - val_loss: 0.2813 - val_accuracy: 0.9298\n",
      "Epoch 29/100\n",
      "13/13 [==============================] - 0s 3ms/step - loss: 0.2782 - accuracy: 0.9347 - val_loss: 0.2738 - val_accuracy: 0.9298\n",
      "Epoch 30/100\n",
      "13/13 [==============================] - 0s 5ms/step - loss: 0.2709 - accuracy: 0.9372 - val_loss: 0.2667 - val_accuracy: 0.9298\n",
      "Epoch 31/100\n",
      "13/13 [==============================] - 0s 4ms/step - loss: 0.2642 - accuracy: 0.9397 - val_loss: 0.2600 - val_accuracy: 0.9298\n",
      "Epoch 32/100\n",
      "13/13 [==============================] - 0s 4ms/step - loss: 0.2580 - accuracy: 0.9422 - val_loss: 0.2537 - val_accuracy: 0.9298\n",
      "Epoch 33/100\n",
      "13/13 [==============================] - 0s 3ms/step - loss: 0.2520 - accuracy: 0.9422 - val_loss: 0.2479 - val_accuracy: 0.9357\n",
      "Epoch 34/100\n",
      "13/13 [==============================] - 0s 4ms/step - loss: 0.2465 - accuracy: 0.9422 - val_loss: 0.2422 - val_accuracy: 0.9357\n",
      "Epoch 35/100\n",
      "13/13 [==============================] - 0s 4ms/step - loss: 0.2411 - accuracy: 0.9422 - val_loss: 0.2370 - val_accuracy: 0.9357\n",
      "Epoch 36/100\n",
      "13/13 [==============================] - 0s 3ms/step - loss: 0.2362 - accuracy: 0.9422 - val_loss: 0.2321 - val_accuracy: 0.9357\n",
      "Epoch 37/100\n",
      "13/13 [==============================] - 0s 3ms/step - loss: 0.2315 - accuracy: 0.9422 - val_loss: 0.2274 - val_accuracy: 0.9357\n",
      "Epoch 38/100\n",
      "13/13 [==============================] - 0s 4ms/step - loss: 0.2270 - accuracy: 0.9422 - val_loss: 0.2231 - val_accuracy: 0.9357\n",
      "Epoch 39/100\n",
      "13/13 [==============================] - 0s 4ms/step - loss: 0.2228 - accuracy: 0.9422 - val_loss: 0.2188 - val_accuracy: 0.9357\n",
      "Epoch 40/100\n",
      "13/13 [==============================] - 0s 4ms/step - loss: 0.2188 - accuracy: 0.9447 - val_loss: 0.2146 - val_accuracy: 0.9357\n",
      "Epoch 41/100\n",
      "13/13 [==============================] - 0s 3ms/step - loss: 0.2148 - accuracy: 0.9447 - val_loss: 0.2108 - val_accuracy: 0.9415\n",
      "Epoch 42/100\n",
      "13/13 [==============================] - 0s 3ms/step - loss: 0.2112 - accuracy: 0.9447 - val_loss: 0.2070 - val_accuracy: 0.9415\n",
      "Epoch 43/100\n",
      "13/13 [==============================] - 0s 2ms/step - loss: 0.2077 - accuracy: 0.9472 - val_loss: 0.2035 - val_accuracy: 0.9415\n",
      "Epoch 44/100\n",
      "13/13 [==============================] - 0s 3ms/step - loss: 0.2043 - accuracy: 0.9523 - val_loss: 0.2002 - val_accuracy: 0.9415\n",
      "Epoch 45/100\n",
      "13/13 [==============================] - 0s 4ms/step - loss: 0.2011 - accuracy: 0.9523 - val_loss: 0.1970 - val_accuracy: 0.9415\n",
      "Epoch 46/100\n",
      "13/13 [==============================] - 0s 3ms/step - loss: 0.1980 - accuracy: 0.9523 - val_loss: 0.1939 - val_accuracy: 0.9415\n",
      "Epoch 47/100\n",
      "13/13 [==============================] - 0s 4ms/step - loss: 0.1951 - accuracy: 0.9548 - val_loss: 0.1909 - val_accuracy: 0.9415\n",
      "Epoch 48/100\n",
      "13/13 [==============================] - 0s 4ms/step - loss: 0.1923 - accuracy: 0.9573 - val_loss: 0.1880 - val_accuracy: 0.9415\n",
      "Epoch 49/100\n",
      "13/13 [==============================] - 0s 4ms/step - loss: 0.1896 - accuracy: 0.9598 - val_loss: 0.1854 - val_accuracy: 0.9415\n",
      "Epoch 50/100\n",
      "13/13 [==============================] - 0s 3ms/step - loss: 0.1870 - accuracy: 0.9598 - val_loss: 0.1827 - val_accuracy: 0.9415\n",
      "Epoch 51/100\n",
      "13/13 [==============================] - 0s 4ms/step - loss: 0.1846 - accuracy: 0.9598 - val_loss: 0.1801 - val_accuracy: 0.9415\n",
      "Epoch 52/100\n",
      "13/13 [==============================] - 0s 4ms/step - loss: 0.1821 - accuracy: 0.9598 - val_loss: 0.1778 - val_accuracy: 0.9415\n",
      "Epoch 53/100\n",
      "13/13 [==============================] - 0s 4ms/step - loss: 0.1798 - accuracy: 0.9598 - val_loss: 0.1754 - val_accuracy: 0.9415\n",
      "Epoch 54/100\n",
      "13/13 [==============================] - 0s 3ms/step - loss: 0.1776 - accuracy: 0.9598 - val_loss: 0.1731 - val_accuracy: 0.9415\n",
      "Epoch 55/100\n",
      "13/13 [==============================] - 0s 4ms/step - loss: 0.1755 - accuracy: 0.9598 - val_loss: 0.1709 - val_accuracy: 0.9415\n",
      "Epoch 56/100\n",
      "13/13 [==============================] - 0s 3ms/step - loss: 0.1734 - accuracy: 0.9598 - val_loss: 0.1689 - val_accuracy: 0.9415\n",
      "Epoch 57/100\n",
      "13/13 [==============================] - 0s 3ms/step - loss: 0.1714 - accuracy: 0.9598 - val_loss: 0.1669 - val_accuracy: 0.9415\n",
      "Epoch 58/100\n",
      "13/13 [==============================] - 0s 3ms/step - loss: 0.1694 - accuracy: 0.9598 - val_loss: 0.1650 - val_accuracy: 0.9474\n"
     ]
    },
    {
     "name": "stdout",
     "output_type": "stream",
     "text": [
      "Epoch 59/100\n",
      "13/13 [==============================] - 0s 4ms/step - loss: 0.1676 - accuracy: 0.9598 - val_loss: 0.1630 - val_accuracy: 0.9474\n",
      "Epoch 60/100\n",
      "13/13 [==============================] - 0s 3ms/step - loss: 0.1657 - accuracy: 0.9598 - val_loss: 0.1612 - val_accuracy: 0.9474\n",
      "Epoch 61/100\n",
      "13/13 [==============================] - 0s 4ms/step - loss: 0.1640 - accuracy: 0.9598 - val_loss: 0.1594 - val_accuracy: 0.9474\n",
      "Epoch 62/100\n",
      "13/13 [==============================] - 0s 4ms/step - loss: 0.1623 - accuracy: 0.9623 - val_loss: 0.1576 - val_accuracy: 0.9474\n",
      "Epoch 63/100\n",
      "13/13 [==============================] - 0s 3ms/step - loss: 0.1606 - accuracy: 0.9623 - val_loss: 0.1560 - val_accuracy: 0.9474\n",
      "Epoch 64/100\n",
      "13/13 [==============================] - 0s 4ms/step - loss: 0.1590 - accuracy: 0.9648 - val_loss: 0.1543 - val_accuracy: 0.9474\n",
      "Epoch 65/100\n",
      "13/13 [==============================] - 0s 4ms/step - loss: 0.1575 - accuracy: 0.9648 - val_loss: 0.1527 - val_accuracy: 0.9532\n",
      "Epoch 66/100\n",
      "13/13 [==============================] - 0s 4ms/step - loss: 0.1560 - accuracy: 0.9648 - val_loss: 0.1512 - val_accuracy: 0.9532\n",
      "Epoch 67/100\n",
      "13/13 [==============================] - 0s 4ms/step - loss: 0.1545 - accuracy: 0.9648 - val_loss: 0.1498 - val_accuracy: 0.9532\n",
      "Epoch 68/100\n",
      "13/13 [==============================] - 0s 3ms/step - loss: 0.1532 - accuracy: 0.9648 - val_loss: 0.1483 - val_accuracy: 0.9532\n",
      "Epoch 69/100\n",
      "13/13 [==============================] - 0s 2ms/step - loss: 0.1518 - accuracy: 0.9648 - val_loss: 0.1469 - val_accuracy: 0.9532\n",
      "Epoch 70/100\n",
      "13/13 [==============================] - 0s 2ms/step - loss: 0.1505 - accuracy: 0.9648 - val_loss: 0.1456 - val_accuracy: 0.9532\n",
      "Epoch 71/100\n",
      "13/13 [==============================] - 0s 2ms/step - loss: 0.1492 - accuracy: 0.9648 - val_loss: 0.1443 - val_accuracy: 0.9532\n",
      "Epoch 72/100\n",
      "13/13 [==============================] - 0s 2ms/step - loss: 0.1479 - accuracy: 0.9648 - val_loss: 0.1429 - val_accuracy: 0.9532\n",
      "Epoch 73/100\n",
      "13/13 [==============================] - 0s 2ms/step - loss: 0.1466 - accuracy: 0.9648 - val_loss: 0.1416 - val_accuracy: 0.9532\n",
      "Epoch 74/100\n",
      "13/13 [==============================] - 0s 3ms/step - loss: 0.1454 - accuracy: 0.9648 - val_loss: 0.1403 - val_accuracy: 0.9532\n",
      "Epoch 75/100\n",
      "13/13 [==============================] - 0s 2ms/step - loss: 0.1443 - accuracy: 0.9648 - val_loss: 0.1390 - val_accuracy: 0.9591\n",
      "Epoch 76/100\n",
      "13/13 [==============================] - 0s 3ms/step - loss: 0.1431 - accuracy: 0.9648 - val_loss: 0.1379 - val_accuracy: 0.9591\n",
      "Epoch 77/100\n",
      "13/13 [==============================] - 0s 4ms/step - loss: 0.1419 - accuracy: 0.9648 - val_loss: 0.1367 - val_accuracy: 0.9591\n",
      "Epoch 78/100\n",
      "13/13 [==============================] - 0s 4ms/step - loss: 0.1408 - accuracy: 0.9673 - val_loss: 0.1356 - val_accuracy: 0.9649\n",
      "Epoch 79/100\n",
      "13/13 [==============================] - 0s 4ms/step - loss: 0.1398 - accuracy: 0.9673 - val_loss: 0.1345 - val_accuracy: 0.9649\n",
      "Epoch 80/100\n",
      "13/13 [==============================] - 0s 4ms/step - loss: 0.1387 - accuracy: 0.9673 - val_loss: 0.1334 - val_accuracy: 0.9649\n",
      "Epoch 81/100\n",
      "13/13 [==============================] - 0s 4ms/step - loss: 0.1377 - accuracy: 0.9673 - val_loss: 0.1323 - val_accuracy: 0.9649\n",
      "Epoch 82/100\n",
      "13/13 [==============================] - 0s 4ms/step - loss: 0.1367 - accuracy: 0.9673 - val_loss: 0.1313 - val_accuracy: 0.9649\n",
      "Epoch 83/100\n",
      "13/13 [==============================] - 0s 4ms/step - loss: 0.1358 - accuracy: 0.9673 - val_loss: 0.1303 - val_accuracy: 0.9649\n",
      "Epoch 84/100\n",
      "13/13 [==============================] - 0s 2ms/step - loss: 0.1348 - accuracy: 0.9673 - val_loss: 0.1292 - val_accuracy: 0.9649\n",
      "Epoch 85/100\n",
      "13/13 [==============================] - 0s 3ms/step - loss: 0.1339 - accuracy: 0.9673 - val_loss: 0.1282 - val_accuracy: 0.9766\n",
      "Epoch 86/100\n",
      "13/13 [==============================] - 0s 4ms/step - loss: 0.1329 - accuracy: 0.9673 - val_loss: 0.1273 - val_accuracy: 0.9766\n",
      "Epoch 87/100\n",
      "13/13 [==============================] - 0s 4ms/step - loss: 0.1320 - accuracy: 0.9698 - val_loss: 0.1263 - val_accuracy: 0.9766\n",
      "Epoch 88/100\n",
      "13/13 [==============================] - 0s 3ms/step - loss: 0.1311 - accuracy: 0.9698 - val_loss: 0.1254 - val_accuracy: 0.9766\n",
      "Epoch 89/100\n",
      "13/13 [==============================] - 0s 3ms/step - loss: 0.1303 - accuracy: 0.9698 - val_loss: 0.1244 - val_accuracy: 0.9766\n",
      "Epoch 90/100\n",
      "13/13 [==============================] - 0s 5ms/step - loss: 0.1295 - accuracy: 0.9698 - val_loss: 0.1237 - val_accuracy: 0.9766\n",
      "Epoch 91/100\n",
      "13/13 [==============================] - 0s 4ms/step - loss: 0.1286 - accuracy: 0.9698 - val_loss: 0.1228 - val_accuracy: 0.9766\n",
      "Epoch 92/100\n",
      "13/13 [==============================] - 0s 3ms/step - loss: 0.1278 - accuracy: 0.9698 - val_loss: 0.1219 - val_accuracy: 0.9766\n",
      "Epoch 93/100\n",
      "13/13 [==============================] - 0s 4ms/step - loss: 0.1270 - accuracy: 0.9698 - val_loss: 0.1210 - val_accuracy: 0.9766\n",
      "Epoch 94/100\n",
      "13/13 [==============================] - 0s 4ms/step - loss: 0.1263 - accuracy: 0.9698 - val_loss: 0.1202 - val_accuracy: 0.9766\n",
      "Epoch 95/100\n",
      "13/13 [==============================] - 0s 4ms/step - loss: 0.1255 - accuracy: 0.9698 - val_loss: 0.1194 - val_accuracy: 0.9766\n",
      "Epoch 96/100\n",
      "13/13 [==============================] - 0s 4ms/step - loss: 0.1248 - accuracy: 0.9698 - val_loss: 0.1186 - val_accuracy: 0.9766\n",
      "Epoch 97/100\n",
      "13/13 [==============================] - 0s 4ms/step - loss: 0.1241 - accuracy: 0.9698 - val_loss: 0.1178 - val_accuracy: 0.9766\n",
      "Epoch 98/100\n",
      "13/13 [==============================] - 0s 2ms/step - loss: 0.1234 - accuracy: 0.9698 - val_loss: 0.1170 - val_accuracy: 0.9766\n",
      "Epoch 99/100\n",
      "13/13 [==============================] - 0s 3ms/step - loss: 0.1226 - accuracy: 0.9698 - val_loss: 0.1163 - val_accuracy: 0.9766\n",
      "Epoch 100/100\n",
      "13/13 [==============================] - 0s 4ms/step - loss: 0.1220 - accuracy: 0.9698 - val_loss: 0.1156 - val_accuracy: 0.9766\n",
      "13/13 [==============================] - 0s 1ms/step - loss: 0.1216 - accuracy: 0.9698\n",
      "Train Score: [0.121587373316288, 0.9698492288589478]\n",
      "6/6 [==============================] - 0s 1ms/step - loss: 0.1156 - accuracy: 0.9766\n",
      "Test Score: [0.11556751281023026, 0.9766082167625427]\n"
     ]
    }
   ],
   "source": [
    "model = tf.keras.models.Sequential([\n",
    "    tf.keras.layers.Input(shape=(d,)),\n",
    "    tf.keras.layers.Dense(1,activation='sigmoid')\n",
    "])\n",
    "\n",
    "model.compile(optimizer='adam',loss='binary_crossentropy',metrics=['accuracy'])\n",
    "r=model.fit(x_train,y_train,validation_data=(x_test,y_test),epochs=100)\n",
    "\n",
    "print('Train Score:',model.evaluate(x_train,y_train))\n",
    "print('Test Score:',model.evaluate(x_test,y_test))"
   ]
  },
  {
   "cell_type": "code",
   "execution_count": 38,
   "id": "copyrighted-launch",
   "metadata": {},
   "outputs": [
    {
     "data": {
      "text/plain": [
       "<matplotlib.legend.Legend at 0x1cc50fcac10>"
      ]
     },
     "execution_count": 38,
     "metadata": {},
     "output_type": "execute_result"
    },
    {
     "data": {
      "image/png": "[encoded data removed]",
      "text/plain": [
       "<Figure size 432x288 with 1 Axes>"
      ]
     },
     "metadata": {
      "needs_background": "light"
     },
     "output_type": "display_data"
    }
   ],
   "source": [
    "import matplotlib.pyplot as plt\n",
    "plt.plot(r.history['loss'],label='loss')\n",
    "plt.plot(r.history['val_loss'],label='val_loss')\n",
    "plt.legend()"
   ]
  },
  {
   "cell_type": "code",
   "execution_count": 41,
   "id": "opposite-capacity",
   "metadata": {},
   "outputs": [
    {
     "data": {
      "text/plain": [
       "dict_keys(['loss', 'accuracy', 'val_loss', 'val_accuracy'])"
      ]
     },
     "execution_count": 41,
     "metadata": {},
     "output_type": "execute_result"
    }
   ],
   "source": [
    "r.history.keys()"
   ]
  },
  {
   "cell_type": "code",
   "execution_count": 42,
   "id": "growing-primary",
   "metadata": {},
   "outputs": [
    {
     "data": {
      "text/plain": [
       "<matplotlib.legend.Legend at 0x1cc510a8f40>"
      ]
     },
     "execution_count": 42,
     "metadata": {},
     "output_type": "execute_result"
    },
    {
     "data": {
      "image/png": "[encoded data removed]",
      "text/plain": [
       "<Figure size 432x288 with 1 Axes>"
      ]
     },
     "metadata": {
      "needs_background": "light"
     },
     "output_type": "display_data"
    }
   ],
   "source": [
    "plt.plot(r.history['accuracy'],label='acc')\n",
    "plt.plot(r.history['val_accuracy'],label='val_acc')\n",
    "plt.legend()"
   ]
  },
  {
   "cell_type": "code",
   "execution_count": null,
   "id": "damaged-doctor",
   "metadata": {},
   "outputs": [],
   "source": []
  }
 ],
 "metadata": {
  "kernelspec": {
   "display_name": "Python 3",
   "language": "python",
   "name": "python3"
  },
  "language_info": {
   "codemirror_mode": {
    "name": "ipython",
    "version": 3
   },
   "file_extension": ".py",
   "mimetype": "text/x-python",
   "name": "python",
   "nbconvert_exporter": "python",
   "pygments_lexer": "ipython3",
   "version": "3.8.8"
  }
 },
 "nbformat": 4,
 "nbformat_minor": 5
}
